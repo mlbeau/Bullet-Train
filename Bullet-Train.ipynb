{
 "cells": [
  {
   "cell_type": "markdown",
   "id": "3b76c4e0",
   "metadata": {},
   "source": [
    "# **Bullet Train Travel Experience**"
   ]
  },
  {
   "cell_type": "markdown",
   "id": "5f237e76",
   "metadata": {},
   "source": [
    "----------------------------------------\n",
    "## **Context and Objective**\n",
    "----------------------------------------\n",
    "\n",
    "- In a passenger train survey, each passenger was asked whether they were satisfied with their overall travel experience or not, and that is captured in the data of the survey report under the variable labeled ‘Overall_Experience’.\n",
    "- The objective of this problem is to understand which parameters play an important role in swaying passenger feedback towards a positive scale.\n",
    "\n",
    "--------------------\n",
    "## **Datasets**\n",
    "--------------------\n",
    "\n",
    "We have two separate datasets: Travel data & Survey data. Travel data has information related to passengers and attributes related to the Shinkansen train, in which they traveled. The survey data is aggregated data of surveys indicating the post-service experience. Treat both these datasets as raw data and perform any necessary data cleaning/validation steps as required.\n",
    "\n",
    "**Target Variable: Overall_Experience (1 represents ‘satisfied’, and 0 represents ‘not satisfied’)**"
   ]
  },
  {
   "cell_type": "markdown",
   "id": "5daab49a",
   "metadata": {},
   "source": [
    "## **Importing the libraries and overview of the dataset**"
   ]
  },
  {
   "cell_type": "code",
   "execution_count": 51,
   "id": "993fe577",
   "metadata": {},
   "outputs": [],
   "source": [
    "import pandas as pd\n",
    "import re\n",
    "import numpy as np\n",
    "import matplotlib.pyplot as plt\n",
    "import seaborn as sns\n",
    "\n",
    "# To scale the data using z-score \n",
    "from sklearn.preprocessing import StandardScaler\n",
    "\n",
    "from sklearn.model_selection import train_test_split\n",
    "\n",
    "# Algorithms to use\n",
    "from sklearn.preprocessing import LabelEncoder, OneHotEncoder\n",
    "from sklearn.discriminant_analysis import LinearDiscriminantAnalysis\n",
    "from sklearn.discriminant_analysis import QuadraticDiscriminantAnalysis\n",
    "from sklearn.linear_model import LogisticRegression\n",
    "\n",
    "# Metrics to evaluate the model\n",
    "from sklearn.metrics import (accuracy_score, classification_report, confusion_matrix, f1_score, \n",
    "precision_recall_curve, precision_score, recall_score)\n",
    "\n",
    "# For tuning the model\n",
    "from sklearn.model_selection import GridSearchCV\n",
    "\n",
    "# To ignore warnings\n",
    "import warnings\n",
    "warnings.filterwarnings(\"ignore\")"
   ]
  },
  {
   "cell_type": "markdown",
   "id": "31484c2a",
   "metadata": {},
   "source": [
    "### **Loading the datasets**"
   ]
  },
  {
   "cell_type": "code",
   "execution_count": 52,
   "id": "6cfc7fcb",
   "metadata": {},
   "outputs": [],
   "source": [
    "survey_train = pd.read_csv(\"Surveydata_train_.csv\")\n",
    "travel_train = pd.read_csv(\"Traveldata_train_.csv\")\n",
    "\n",
    "survey_test = pd.read_csv(\"Surveydata_test_.csv\")\n",
    "travel_test = pd.read_csv(\"Traveldata_test_.csv\")"
   ]
  },
  {
   "cell_type": "code",
   "execution_count": 53,
   "id": "0f4f81f4",
   "metadata": {},
   "outputs": [
    {
     "data": {
      "text/html": [
       "<div>\n",
       "<style scoped>\n",
       "    .dataframe tbody tr th:only-of-type {\n",
       "        vertical-align: middle;\n",
       "    }\n",
       "\n",
       "    .dataframe tbody tr th {\n",
       "        vertical-align: top;\n",
       "    }\n",
       "\n",
       "    .dataframe thead th {\n",
       "        text-align: right;\n",
       "    }\n",
       "</style>\n",
       "<table border=\"1\" class=\"dataframe\">\n",
       "  <thead>\n",
       "    <tr style=\"text-align: right;\">\n",
       "      <th></th>\n",
       "      <th>ID</th>\n",
       "      <th>Overall_Experience</th>\n",
       "      <th>Seat_Comfort</th>\n",
       "      <th>Seat_Class</th>\n",
       "      <th>Arrival_Time_Convenient</th>\n",
       "      <th>Catering</th>\n",
       "      <th>Platform_Location</th>\n",
       "      <th>Onboard_Wifi_Service</th>\n",
       "      <th>Onboard_Entertainment</th>\n",
       "      <th>Online_Support</th>\n",
       "      <th>Ease_of_Online_Booking</th>\n",
       "      <th>Onboard_Service</th>\n",
       "      <th>Legroom</th>\n",
       "      <th>Baggage_Handling</th>\n",
       "      <th>CheckIn_Service</th>\n",
       "      <th>Cleanliness</th>\n",
       "      <th>Online_Boarding</th>\n",
       "    </tr>\n",
       "  </thead>\n",
       "  <tbody>\n",
       "    <tr>\n",
       "      <th>0</th>\n",
       "      <td>98800001</td>\n",
       "      <td>0</td>\n",
       "      <td>Needs Improvement</td>\n",
       "      <td>Green Car</td>\n",
       "      <td>Excellent</td>\n",
       "      <td>Excellent</td>\n",
       "      <td>Very Convenient</td>\n",
       "      <td>Good</td>\n",
       "      <td>Needs Improvement</td>\n",
       "      <td>Acceptable</td>\n",
       "      <td>Needs Improvement</td>\n",
       "      <td>Needs Improvement</td>\n",
       "      <td>Acceptable</td>\n",
       "      <td>Needs Improvement</td>\n",
       "      <td>Good</td>\n",
       "      <td>Needs Improvement</td>\n",
       "      <td>Poor</td>\n",
       "    </tr>\n",
       "    <tr>\n",
       "      <th>1</th>\n",
       "      <td>98800002</td>\n",
       "      <td>0</td>\n",
       "      <td>Poor</td>\n",
       "      <td>Ordinary</td>\n",
       "      <td>Excellent</td>\n",
       "      <td>Poor</td>\n",
       "      <td>Needs Improvement</td>\n",
       "      <td>Good</td>\n",
       "      <td>Poor</td>\n",
       "      <td>Good</td>\n",
       "      <td>Good</td>\n",
       "      <td>Excellent</td>\n",
       "      <td>Needs Improvement</td>\n",
       "      <td>Poor</td>\n",
       "      <td>Needs Improvement</td>\n",
       "      <td>Good</td>\n",
       "      <td>Good</td>\n",
       "    </tr>\n",
       "    <tr>\n",
       "      <th>2</th>\n",
       "      <td>98800003</td>\n",
       "      <td>1</td>\n",
       "      <td>Needs Improvement</td>\n",
       "      <td>Green Car</td>\n",
       "      <td>Needs Improvement</td>\n",
       "      <td>Needs Improvement</td>\n",
       "      <td>Needs Improvement</td>\n",
       "      <td>Needs Improvement</td>\n",
       "      <td>Good</td>\n",
       "      <td>Excellent</td>\n",
       "      <td>Excellent</td>\n",
       "      <td>Excellent</td>\n",
       "      <td>Excellent</td>\n",
       "      <td>Excellent</td>\n",
       "      <td>Good</td>\n",
       "      <td>Excellent</td>\n",
       "      <td>Excellent</td>\n",
       "    </tr>\n",
       "    <tr>\n",
       "      <th>3</th>\n",
       "      <td>98800004</td>\n",
       "      <td>0</td>\n",
       "      <td>Acceptable</td>\n",
       "      <td>Ordinary</td>\n",
       "      <td>Needs Improvement</td>\n",
       "      <td>NaN</td>\n",
       "      <td>Needs Improvement</td>\n",
       "      <td>Acceptable</td>\n",
       "      <td>Needs Improvement</td>\n",
       "      <td>Acceptable</td>\n",
       "      <td>Acceptable</td>\n",
       "      <td>Acceptable</td>\n",
       "      <td>Acceptable</td>\n",
       "      <td>Acceptable</td>\n",
       "      <td>Good</td>\n",
       "      <td>Acceptable</td>\n",
       "      <td>Acceptable</td>\n",
       "    </tr>\n",
       "    <tr>\n",
       "      <th>4</th>\n",
       "      <td>98800005</td>\n",
       "      <td>1</td>\n",
       "      <td>Acceptable</td>\n",
       "      <td>Ordinary</td>\n",
       "      <td>Acceptable</td>\n",
       "      <td>Acceptable</td>\n",
       "      <td>Manageable</td>\n",
       "      <td>Needs Improvement</td>\n",
       "      <td>Good</td>\n",
       "      <td>Excellent</td>\n",
       "      <td>Good</td>\n",
       "      <td>Good</td>\n",
       "      <td>Good</td>\n",
       "      <td>Good</td>\n",
       "      <td>Good</td>\n",
       "      <td>Good</td>\n",
       "      <td>Good</td>\n",
       "    </tr>\n",
       "  </tbody>\n",
       "</table>\n",
       "</div>"
      ],
      "text/plain": [
       "         ID  Overall_Experience       Seat_Comfort Seat_Class  \\\n",
       "0  98800001                   0  Needs Improvement  Green Car   \n",
       "1  98800002                   0               Poor   Ordinary   \n",
       "2  98800003                   1  Needs Improvement  Green Car   \n",
       "3  98800004                   0         Acceptable   Ordinary   \n",
       "4  98800005                   1         Acceptable   Ordinary   \n",
       "\n",
       "  Arrival_Time_Convenient           Catering  Platform_Location  \\\n",
       "0               Excellent          Excellent    Very Convenient   \n",
       "1               Excellent               Poor  Needs Improvement   \n",
       "2       Needs Improvement  Needs Improvement  Needs Improvement   \n",
       "3       Needs Improvement                NaN  Needs Improvement   \n",
       "4              Acceptable         Acceptable         Manageable   \n",
       "\n",
       "  Onboard_Wifi_Service Onboard_Entertainment Online_Support  \\\n",
       "0                 Good     Needs Improvement     Acceptable   \n",
       "1                 Good                  Poor           Good   \n",
       "2    Needs Improvement                  Good      Excellent   \n",
       "3           Acceptable     Needs Improvement     Acceptable   \n",
       "4    Needs Improvement                  Good      Excellent   \n",
       "\n",
       "  Ease_of_Online_Booking    Onboard_Service            Legroom  \\\n",
       "0      Needs Improvement  Needs Improvement         Acceptable   \n",
       "1                   Good          Excellent  Needs Improvement   \n",
       "2              Excellent          Excellent          Excellent   \n",
       "3             Acceptable         Acceptable         Acceptable   \n",
       "4                   Good               Good               Good   \n",
       "\n",
       "    Baggage_Handling    CheckIn_Service        Cleanliness Online_Boarding  \n",
       "0  Needs Improvement               Good  Needs Improvement            Poor  \n",
       "1               Poor  Needs Improvement               Good            Good  \n",
       "2          Excellent               Good          Excellent       Excellent  \n",
       "3         Acceptable               Good         Acceptable      Acceptable  \n",
       "4               Good               Good               Good            Good  "
      ]
     },
     "execution_count": 53,
     "metadata": {},
     "output_type": "execute_result"
    }
   ],
   "source": [
    "survey_train.head()"
   ]
  },
  {
   "cell_type": "code",
   "execution_count": 54,
   "id": "7c4ad226",
   "metadata": {},
   "outputs": [
    {
     "data": {
      "text/html": [
       "<div>\n",
       "<style scoped>\n",
       "    .dataframe tbody tr th:only-of-type {\n",
       "        vertical-align: middle;\n",
       "    }\n",
       "\n",
       "    .dataframe tbody tr th {\n",
       "        vertical-align: top;\n",
       "    }\n",
       "\n",
       "    .dataframe thead th {\n",
       "        text-align: right;\n",
       "    }\n",
       "</style>\n",
       "<table border=\"1\" class=\"dataframe\">\n",
       "  <thead>\n",
       "    <tr style=\"text-align: right;\">\n",
       "      <th></th>\n",
       "      <th>ID</th>\n",
       "      <th>Seat_Comfort</th>\n",
       "      <th>Seat_Class</th>\n",
       "      <th>Arrival_Time_Convenient</th>\n",
       "      <th>Catering</th>\n",
       "      <th>Platform_Location</th>\n",
       "      <th>Onboard_Wifi_Service</th>\n",
       "      <th>Onboard_Entertainment</th>\n",
       "      <th>Online_Support</th>\n",
       "      <th>Ease_of_Online_Booking</th>\n",
       "      <th>Onboard_Service</th>\n",
       "      <th>Legroom</th>\n",
       "      <th>Baggage_Handling</th>\n",
       "      <th>CheckIn_Service</th>\n",
       "      <th>Cleanliness</th>\n",
       "      <th>Online_Boarding</th>\n",
       "    </tr>\n",
       "  </thead>\n",
       "  <tbody>\n",
       "    <tr>\n",
       "      <th>35597</th>\n",
       "      <td>99935598</td>\n",
       "      <td>Needs Improvement</td>\n",
       "      <td>Green Car</td>\n",
       "      <td>Excellent</td>\n",
       "      <td>Needs Improvement</td>\n",
       "      <td>Manageable</td>\n",
       "      <td>Acceptable</td>\n",
       "      <td>Needs Improvement</td>\n",
       "      <td>Acceptable</td>\n",
       "      <td>Acceptable</td>\n",
       "      <td>Good</td>\n",
       "      <td>Excellent</td>\n",
       "      <td>Good</td>\n",
       "      <td>Acceptable</td>\n",
       "      <td>Good</td>\n",
       "      <td>Acceptable</td>\n",
       "    </tr>\n",
       "    <tr>\n",
       "      <th>35598</th>\n",
       "      <td>99935599</td>\n",
       "      <td>Needs Improvement</td>\n",
       "      <td>Ordinary</td>\n",
       "      <td>Needs Improvement</td>\n",
       "      <td>Good</td>\n",
       "      <td>Needs Improvement</td>\n",
       "      <td>Acceptable</td>\n",
       "      <td>Excellent</td>\n",
       "      <td>Excellent</td>\n",
       "      <td>Good</td>\n",
       "      <td>Good</td>\n",
       "      <td>Good</td>\n",
       "      <td>Good</td>\n",
       "      <td>Acceptable</td>\n",
       "      <td>Good</td>\n",
       "      <td>Good</td>\n",
       "    </tr>\n",
       "    <tr>\n",
       "      <th>35599</th>\n",
       "      <td>99935600</td>\n",
       "      <td>Good</td>\n",
       "      <td>Green Car</td>\n",
       "      <td>Extremely Poor</td>\n",
       "      <td>Good</td>\n",
       "      <td>Needs Improvement</td>\n",
       "      <td>Needs Improvement</td>\n",
       "      <td>Good</td>\n",
       "      <td>Poor</td>\n",
       "      <td>Needs Improvement</td>\n",
       "      <td>Poor</td>\n",
       "      <td>Acceptable</td>\n",
       "      <td>Poor</td>\n",
       "      <td>Poor</td>\n",
       "      <td>Excellent</td>\n",
       "      <td>Needs Improvement</td>\n",
       "    </tr>\n",
       "    <tr>\n",
       "      <th>35600</th>\n",
       "      <td>99935601</td>\n",
       "      <td>Excellent</td>\n",
       "      <td>Ordinary</td>\n",
       "      <td>Excellent</td>\n",
       "      <td>Excellent</td>\n",
       "      <td>Inconvenient</td>\n",
       "      <td>Acceptable</td>\n",
       "      <td>Excellent</td>\n",
       "      <td>Good</td>\n",
       "      <td>Excellent</td>\n",
       "      <td>Excellent</td>\n",
       "      <td>Excellent</td>\n",
       "      <td>Excellent</td>\n",
       "      <td>Acceptable</td>\n",
       "      <td>Excellent</td>\n",
       "      <td>Good</td>\n",
       "    </tr>\n",
       "    <tr>\n",
       "      <th>35601</th>\n",
       "      <td>99935602</td>\n",
       "      <td>Good</td>\n",
       "      <td>Ordinary</td>\n",
       "      <td>Acceptable</td>\n",
       "      <td>Good</td>\n",
       "      <td>Manageable</td>\n",
       "      <td>Poor</td>\n",
       "      <td>Good</td>\n",
       "      <td>Poor</td>\n",
       "      <td>Poor</td>\n",
       "      <td>Acceptable</td>\n",
       "      <td>Good</td>\n",
       "      <td>Good</td>\n",
       "      <td>Needs Improvement</td>\n",
       "      <td>Good</td>\n",
       "      <td>Poor</td>\n",
       "    </tr>\n",
       "  </tbody>\n",
       "</table>\n",
       "</div>"
      ],
      "text/plain": [
       "             ID       Seat_Comfort Seat_Class Arrival_Time_Convenient  \\\n",
       "35597  99935598  Needs Improvement  Green Car               Excellent   \n",
       "35598  99935599  Needs Improvement   Ordinary       Needs Improvement   \n",
       "35599  99935600               Good  Green Car          Extremely Poor   \n",
       "35600  99935601          Excellent   Ordinary               Excellent   \n",
       "35601  99935602               Good   Ordinary              Acceptable   \n",
       "\n",
       "                Catering  Platform_Location Onboard_Wifi_Service  \\\n",
       "35597  Needs Improvement         Manageable           Acceptable   \n",
       "35598               Good  Needs Improvement           Acceptable   \n",
       "35599               Good  Needs Improvement    Needs Improvement   \n",
       "35600          Excellent       Inconvenient           Acceptable   \n",
       "35601               Good         Manageable                 Poor   \n",
       "\n",
       "      Onboard_Entertainment Online_Support Ease_of_Online_Booking  \\\n",
       "35597     Needs Improvement     Acceptable             Acceptable   \n",
       "35598             Excellent      Excellent                   Good   \n",
       "35599                  Good           Poor      Needs Improvement   \n",
       "35600             Excellent           Good              Excellent   \n",
       "35601                  Good           Poor                   Poor   \n",
       "\n",
       "      Onboard_Service     Legroom Baggage_Handling    CheckIn_Service  \\\n",
       "35597            Good   Excellent             Good         Acceptable   \n",
       "35598            Good        Good             Good         Acceptable   \n",
       "35599            Poor  Acceptable             Poor               Poor   \n",
       "35600       Excellent   Excellent        Excellent         Acceptable   \n",
       "35601      Acceptable        Good             Good  Needs Improvement   \n",
       "\n",
       "      Cleanliness    Online_Boarding  \n",
       "35597        Good         Acceptable  \n",
       "35598        Good               Good  \n",
       "35599   Excellent  Needs Improvement  \n",
       "35600   Excellent               Good  \n",
       "35601        Good               Poor  "
      ]
     },
     "execution_count": 54,
     "metadata": {},
     "output_type": "execute_result"
    }
   ],
   "source": [
    "survey_test.tail()"
   ]
  },
  {
   "cell_type": "code",
   "execution_count": 55,
   "id": "ce36ad09",
   "metadata": {},
   "outputs": [
    {
     "data": {
      "text/html": [
       "<div>\n",
       "<style scoped>\n",
       "    .dataframe tbody tr th:only-of-type {\n",
       "        vertical-align: middle;\n",
       "    }\n",
       "\n",
       "    .dataframe tbody tr th {\n",
       "        vertical-align: top;\n",
       "    }\n",
       "\n",
       "    .dataframe thead th {\n",
       "        text-align: right;\n",
       "    }\n",
       "</style>\n",
       "<table border=\"1\" class=\"dataframe\">\n",
       "  <thead>\n",
       "    <tr style=\"text-align: right;\">\n",
       "      <th></th>\n",
       "      <th>ID</th>\n",
       "      <th>Gender</th>\n",
       "      <th>Customer_Type</th>\n",
       "      <th>Age</th>\n",
       "      <th>Type_Travel</th>\n",
       "      <th>Travel_Class</th>\n",
       "      <th>Travel_Distance</th>\n",
       "      <th>Departure_Delay_in_Mins</th>\n",
       "      <th>Arrival_Delay_in_Mins</th>\n",
       "    </tr>\n",
       "  </thead>\n",
       "  <tbody>\n",
       "    <tr>\n",
       "      <th>0</th>\n",
       "      <td>98800001</td>\n",
       "      <td>Female</td>\n",
       "      <td>Loyal Customer</td>\n",
       "      <td>52.0</td>\n",
       "      <td>NaN</td>\n",
       "      <td>Business</td>\n",
       "      <td>272</td>\n",
       "      <td>0.0</td>\n",
       "      <td>5.0</td>\n",
       "    </tr>\n",
       "    <tr>\n",
       "      <th>1</th>\n",
       "      <td>98800002</td>\n",
       "      <td>Male</td>\n",
       "      <td>Loyal Customer</td>\n",
       "      <td>48.0</td>\n",
       "      <td>Personal Travel</td>\n",
       "      <td>Eco</td>\n",
       "      <td>2200</td>\n",
       "      <td>9.0</td>\n",
       "      <td>0.0</td>\n",
       "    </tr>\n",
       "    <tr>\n",
       "      <th>2</th>\n",
       "      <td>98800003</td>\n",
       "      <td>Female</td>\n",
       "      <td>Loyal Customer</td>\n",
       "      <td>43.0</td>\n",
       "      <td>Business Travel</td>\n",
       "      <td>Business</td>\n",
       "      <td>1061</td>\n",
       "      <td>77.0</td>\n",
       "      <td>119.0</td>\n",
       "    </tr>\n",
       "    <tr>\n",
       "      <th>3</th>\n",
       "      <td>98800004</td>\n",
       "      <td>Female</td>\n",
       "      <td>Loyal Customer</td>\n",
       "      <td>44.0</td>\n",
       "      <td>Business Travel</td>\n",
       "      <td>Business</td>\n",
       "      <td>780</td>\n",
       "      <td>13.0</td>\n",
       "      <td>18.0</td>\n",
       "    </tr>\n",
       "    <tr>\n",
       "      <th>4</th>\n",
       "      <td>98800005</td>\n",
       "      <td>Female</td>\n",
       "      <td>Loyal Customer</td>\n",
       "      <td>50.0</td>\n",
       "      <td>Business Travel</td>\n",
       "      <td>Business</td>\n",
       "      <td>1981</td>\n",
       "      <td>0.0</td>\n",
       "      <td>0.0</td>\n",
       "    </tr>\n",
       "  </tbody>\n",
       "</table>\n",
       "</div>"
      ],
      "text/plain": [
       "         ID  Gender   Customer_Type   Age      Type_Travel Travel_Class  \\\n",
       "0  98800001  Female  Loyal Customer  52.0              NaN     Business   \n",
       "1  98800002    Male  Loyal Customer  48.0  Personal Travel          Eco   \n",
       "2  98800003  Female  Loyal Customer  43.0  Business Travel     Business   \n",
       "3  98800004  Female  Loyal Customer  44.0  Business Travel     Business   \n",
       "4  98800005  Female  Loyal Customer  50.0  Business Travel     Business   \n",
       "\n",
       "   Travel_Distance  Departure_Delay_in_Mins  Arrival_Delay_in_Mins  \n",
       "0              272                      0.0                    5.0  \n",
       "1             2200                      9.0                    0.0  \n",
       "2             1061                     77.0                  119.0  \n",
       "3              780                     13.0                   18.0  \n",
       "4             1981                      0.0                    0.0  "
      ]
     },
     "execution_count": 55,
     "metadata": {},
     "output_type": "execute_result"
    }
   ],
   "source": [
    "travel_train.head()"
   ]
  },
  {
   "cell_type": "code",
   "execution_count": 56,
   "id": "18dc2a3d",
   "metadata": {},
   "outputs": [
    {
     "data": {
      "text/html": [
       "<div>\n",
       "<style scoped>\n",
       "    .dataframe tbody tr th:only-of-type {\n",
       "        vertical-align: middle;\n",
       "    }\n",
       "\n",
       "    .dataframe tbody tr th {\n",
       "        vertical-align: top;\n",
       "    }\n",
       "\n",
       "    .dataframe thead th {\n",
       "        text-align: right;\n",
       "    }\n",
       "</style>\n",
       "<table border=\"1\" class=\"dataframe\">\n",
       "  <thead>\n",
       "    <tr style=\"text-align: right;\">\n",
       "      <th></th>\n",
       "      <th>ID</th>\n",
       "      <th>Gender</th>\n",
       "      <th>Customer_Type</th>\n",
       "      <th>Age</th>\n",
       "      <th>Type_Travel</th>\n",
       "      <th>Travel_Class</th>\n",
       "      <th>Travel_Distance</th>\n",
       "      <th>Departure_Delay_in_Mins</th>\n",
       "      <th>Arrival_Delay_in_Mins</th>\n",
       "    </tr>\n",
       "  </thead>\n",
       "  <tbody>\n",
       "    <tr>\n",
       "      <th>35597</th>\n",
       "      <td>99935598</td>\n",
       "      <td>Male</td>\n",
       "      <td>Loyal Customer</td>\n",
       "      <td>8.0</td>\n",
       "      <td>Personal Travel</td>\n",
       "      <td>Eco</td>\n",
       "      <td>1334</td>\n",
       "      <td>0.0</td>\n",
       "      <td>0.0</td>\n",
       "    </tr>\n",
       "    <tr>\n",
       "      <th>35598</th>\n",
       "      <td>99935599</td>\n",
       "      <td>Female</td>\n",
       "      <td>Loyal Customer</td>\n",
       "      <td>53.0</td>\n",
       "      <td>Business Travel</td>\n",
       "      <td>Business</td>\n",
       "      <td>1772</td>\n",
       "      <td>0.0</td>\n",
       "      <td>0.0</td>\n",
       "    </tr>\n",
       "    <tr>\n",
       "      <th>35599</th>\n",
       "      <td>99935600</td>\n",
       "      <td>Male</td>\n",
       "      <td>Disloyal Customer</td>\n",
       "      <td>22.0</td>\n",
       "      <td>Business Travel</td>\n",
       "      <td>Eco</td>\n",
       "      <td>1180</td>\n",
       "      <td>0.0</td>\n",
       "      <td>0.0</td>\n",
       "    </tr>\n",
       "    <tr>\n",
       "      <th>35600</th>\n",
       "      <td>99935601</td>\n",
       "      <td>Female</td>\n",
       "      <td>Loyal Customer</td>\n",
       "      <td>67.0</td>\n",
       "      <td>Personal Travel</td>\n",
       "      <td>Eco</td>\n",
       "      <td>420</td>\n",
       "      <td>23.0</td>\n",
       "      <td>16.0</td>\n",
       "    </tr>\n",
       "    <tr>\n",
       "      <th>35601</th>\n",
       "      <td>99935602</td>\n",
       "      <td>Male</td>\n",
       "      <td>NaN</td>\n",
       "      <td>20.0</td>\n",
       "      <td>Personal Travel</td>\n",
       "      <td>Eco</td>\n",
       "      <td>1680</td>\n",
       "      <td>0.0</td>\n",
       "      <td>0.0</td>\n",
       "    </tr>\n",
       "  </tbody>\n",
       "</table>\n",
       "</div>"
      ],
      "text/plain": [
       "             ID  Gender      Customer_Type   Age      Type_Travel  \\\n",
       "35597  99935598    Male     Loyal Customer   8.0  Personal Travel   \n",
       "35598  99935599  Female     Loyal Customer  53.0  Business Travel   \n",
       "35599  99935600    Male  Disloyal Customer  22.0  Business Travel   \n",
       "35600  99935601  Female     Loyal Customer  67.0  Personal Travel   \n",
       "35601  99935602    Male                NaN  20.0  Personal Travel   \n",
       "\n",
       "      Travel_Class  Travel_Distance  Departure_Delay_in_Mins  \\\n",
       "35597          Eco             1334                      0.0   \n",
       "35598     Business             1772                      0.0   \n",
       "35599          Eco             1180                      0.0   \n",
       "35600          Eco              420                     23.0   \n",
       "35601          Eco             1680                      0.0   \n",
       "\n",
       "       Arrival_Delay_in_Mins  \n",
       "35597                    0.0  \n",
       "35598                    0.0  \n",
       "35599                    0.0  \n",
       "35600                   16.0  \n",
       "35601                    0.0  "
      ]
     },
     "execution_count": 56,
     "metadata": {},
     "output_type": "execute_result"
    }
   ],
   "source": [
    "travel_test.tail()"
   ]
  },
  {
   "cell_type": "code",
   "execution_count": 57,
   "id": "9a023fc5",
   "metadata": {},
   "outputs": [
    {
     "name": "stdout",
     "output_type": "stream",
     "text": [
      "<class 'pandas.core.frame.DataFrame'>\n",
      "RangeIndex: 94379 entries, 0 to 94378\n",
      "Data columns (total 17 columns):\n",
      " #   Column                   Non-Null Count  Dtype \n",
      "---  ------                   --------------  ----- \n",
      " 0   ID                       94379 non-null  int64 \n",
      " 1   Overall_Experience       94379 non-null  int64 \n",
      " 2   Seat_Comfort             94318 non-null  object\n",
      " 3   Seat_Class               94379 non-null  object\n",
      " 4   Arrival_Time_Convenient  85449 non-null  object\n",
      " 5   Catering                 85638 non-null  object\n",
      " 6   Platform_Location        94349 non-null  object\n",
      " 7   Onboard_Wifi_Service     94349 non-null  object\n",
      " 8   Onboard_Entertainment    94361 non-null  object\n",
      " 9   Online_Support           94288 non-null  object\n",
      " 10  Ease_of_Online_Booking   94306 non-null  object\n",
      " 11  Onboard_Service          86778 non-null  object\n",
      " 12  Legroom                  94289 non-null  object\n",
      " 13  Baggage_Handling         94237 non-null  object\n",
      " 14  CheckIn_Service          94302 non-null  object\n",
      " 15  Cleanliness              94373 non-null  object\n",
      " 16  Online_Boarding          94373 non-null  object\n",
      "dtypes: int64(2), object(15)\n",
      "memory usage: 12.2+ MB\n"
     ]
    }
   ],
   "source": [
    "survey_train.info()"
   ]
  },
  {
   "cell_type": "markdown",
   "id": "b92511d1",
   "metadata": {},
   "source": [
    "* There are missing values in Seat_Comfort, Arrival_Time_Convenient, Catering, Platform_location, ... to treat in the survey training dataset"
   ]
  },
  {
   "cell_type": "code",
   "execution_count": 58,
   "id": "71fa0c04",
   "metadata": {},
   "outputs": [
    {
     "data": {
      "text/plain": [
       "ID                         94379\n",
       "Overall_Experience             2\n",
       "Seat_Comfort                   6\n",
       "Seat_Class                     2\n",
       "Arrival_Time_Convenient        6\n",
       "Catering                       6\n",
       "Platform_Location              6\n",
       "Onboard_Wifi_Service           6\n",
       "Onboard_Entertainment          6\n",
       "Online_Support                 6\n",
       "Ease_of_Online_Booking         6\n",
       "Onboard_Service                6\n",
       "Legroom                        6\n",
       "Baggage_Handling               5\n",
       "CheckIn_Service                6\n",
       "Cleanliness                    6\n",
       "Online_Boarding                6\n",
       "dtype: int64"
      ]
     },
     "execution_count": 58,
     "metadata": {},
     "output_type": "execute_result"
    }
   ],
   "source": [
    "survey_train.nunique()"
   ]
  },
  {
   "cell_type": "code",
   "execution_count": 59,
   "id": "84a9051f",
   "metadata": {},
   "outputs": [
    {
     "name": "stdout",
     "output_type": "stream",
     "text": [
      "<class 'pandas.core.frame.DataFrame'>\n",
      "RangeIndex: 35602 entries, 0 to 35601\n",
      "Data columns (total 16 columns):\n",
      " #   Column                   Non-Null Count  Dtype \n",
      "---  ------                   --------------  ----- \n",
      " 0   ID                       35602 non-null  int64 \n",
      " 1   Seat_Comfort             35580 non-null  object\n",
      " 2   Seat_Class               35602 non-null  object\n",
      " 3   Arrival_Time_Convenient  32277 non-null  object\n",
      " 4   Catering                 32245 non-null  object\n",
      " 5   Platform_Location        35590 non-null  object\n",
      " 6   Onboard_Wifi_Service     35590 non-null  object\n",
      " 7   Onboard_Entertainment    35594 non-null  object\n",
      " 8   Online_Support           35576 non-null  object\n",
      " 9   Ease_of_Online_Booking   35584 non-null  object\n",
      " 10  Onboard_Service          32730 non-null  object\n",
      " 11  Legroom                  35577 non-null  object\n",
      " 12  Baggage_Handling         35562 non-null  object\n",
      " 13  CheckIn_Service          35580 non-null  object\n",
      " 14  Cleanliness              35600 non-null  object\n",
      " 15  Online_Boarding          35600 non-null  object\n",
      "dtypes: int64(1), object(15)\n",
      "memory usage: 4.3+ MB\n"
     ]
    }
   ],
   "source": [
    "survey_test.info()"
   ]
  },
  {
   "cell_type": "markdown",
   "id": "b218e305",
   "metadata": {},
   "source": [
    "* There are missing values in Seat_Comfort, Arrival_Time_Convenient, Catering, Platform_location, ... to treat in the survey test dataset"
   ]
  },
  {
   "cell_type": "code",
   "execution_count": 60,
   "id": "16bcf529",
   "metadata": {},
   "outputs": [
    {
     "name": "stdout",
     "output_type": "stream",
     "text": [
      "<class 'pandas.core.frame.DataFrame'>\n",
      "RangeIndex: 94379 entries, 0 to 94378\n",
      "Data columns (total 9 columns):\n",
      " #   Column                   Non-Null Count  Dtype  \n",
      "---  ------                   --------------  -----  \n",
      " 0   ID                       94379 non-null  int64  \n",
      " 1   Gender                   94302 non-null  object \n",
      " 2   Customer_Type            85428 non-null  object \n",
      " 3   Age                      94346 non-null  float64\n",
      " 4   Type_Travel              85153 non-null  object \n",
      " 5   Travel_Class             94379 non-null  object \n",
      " 6   Travel_Distance          94379 non-null  int64  \n",
      " 7   Departure_Delay_in_Mins  94322 non-null  float64\n",
      " 8   Arrival_Delay_in_Mins    94022 non-null  float64\n",
      "dtypes: float64(3), int64(2), object(4)\n",
      "memory usage: 6.5+ MB\n"
     ]
    }
   ],
   "source": [
    "travel_train.info()"
   ]
  },
  {
   "cell_type": "markdown",
   "id": "4b4b865f",
   "metadata": {},
   "source": [
    "* There are missing values in Gender, Customer_Type, Age, Type_Travel, ... to treat in the travel training dataset"
   ]
  },
  {
   "cell_type": "code",
   "execution_count": 61,
   "id": "3c5bbd5f",
   "metadata": {},
   "outputs": [
    {
     "name": "stdout",
     "output_type": "stream",
     "text": [
      "<class 'pandas.core.frame.DataFrame'>\n",
      "RangeIndex: 35602 entries, 0 to 35601\n",
      "Data columns (total 9 columns):\n",
      " #   Column                   Non-Null Count  Dtype  \n",
      "---  ------                   --------------  -----  \n",
      " 0   ID                       35602 non-null  int64  \n",
      " 1   Gender                   35572 non-null  object \n",
      " 2   Customer_Type            32219 non-null  object \n",
      " 3   Age                      35591 non-null  float64\n",
      " 4   Type_Travel              32154 non-null  object \n",
      " 5   Travel_Class             35602 non-null  object \n",
      " 6   Travel_Distance          35602 non-null  int64  \n",
      " 7   Departure_Delay_in_Mins  35573 non-null  float64\n",
      " 8   Arrival_Delay_in_Mins    35479 non-null  float64\n",
      "dtypes: float64(3), int64(2), object(4)\n",
      "memory usage: 2.4+ MB\n"
     ]
    }
   ],
   "source": [
    "travel_test.info()"
   ]
  },
  {
   "cell_type": "markdown",
   "id": "77653e70",
   "metadata": {},
   "source": [
    "* There are missing values in Gender, Customer_Type, Age, Type_Travel, ... to treat in the travel test dataset"
   ]
  },
  {
   "cell_type": "markdown",
   "id": "5c7e8ce6",
   "metadata": {},
   "source": [
    "## Exploratory Data Analysis"
   ]
  },
  {
   "cell_type": "markdown",
   "id": "c947ecfb",
   "metadata": {},
   "source": [
    "### *Understanding the data*\n",
    "- Duplicates check\n",
    "- Replace bad data in categorical columns with NaN\n",
    "- Treat missing/Null values"
   ]
  },
  {
   "cell_type": "markdown",
   "id": "85f8995b",
   "metadata": {},
   "source": [
    "### **Checking for Duplicates:**\n",
    "- There are no duplicates present in any of the datasets"
   ]
  },
  {
   "cell_type": "code",
   "execution_count": 62,
   "id": "73fa4dcc",
   "metadata": {},
   "outputs": [
    {
     "name": "stdout",
     "output_type": "stream",
     "text": [
      "0 0 0 0\n"
     ]
    }
   ],
   "source": [
    "survey_train_dupes = survey_train.duplicated(keep='first').sum()\n",
    "travel_train_dupes = travel_train.duplicated(keep='first').sum()\n",
    "survey_test_dupes = survey_test.duplicated(keep='first').sum()\n",
    "travel_test_dupes = travel_test.duplicated(keep='first').sum()\n",
    "\n",
    "print(survey_train_dupes, travel_train_dupes, survey_test_dupes, travel_test_dupes)"
   ]
  },
  {
   "cell_type": "markdown",
   "id": "352493ac",
   "metadata": {},
   "source": [
    "## Making Copies of Original Datasets Prior to Data Cleaning"
   ]
  },
  {
   "cell_type": "code",
   "execution_count": 63,
   "id": "64057e6d",
   "metadata": {},
   "outputs": [],
   "source": [
    "# Save original datasets: Save each to (treated dataframe)\n",
    "t_survey_train = survey_train\n",
    "t_travel_train = travel_train\n",
    "\n",
    "t_survey_test = survey_test\n",
    "t_travel_test = travel_test"
   ]
  },
  {
   "cell_type": "markdown",
   "id": "2d3e8ebf",
   "metadata": {},
   "source": [
    "### **Replace bad data in travel_train & travel_test numerical columns with NaN**"
   ]
  },
  {
   "cell_type": "code",
   "execution_count": 64,
   "id": "4b03d4b2",
   "metadata": {},
   "outputs": [],
   "source": [
    "def get_bad_character_frequency(df):\n",
    "    # Create an empty dictionary to store the frequency table\n",
    "    frequency_table = {}\n",
    "\n",
    "    # Iterate over each numerical column\n",
    "    for column in df.select_dtypes(include='number'):\n",
    "        # Convert the column to string type\n",
    "        df[column] = df[column].astype(str)\n",
    "\n",
    "        # Count the non-numeric characters\n",
    "        counts = df[column].apply(lambda x: len(re.findall(r'[^0-9.]', x)))\n",
    "\n",
    "        # Calculate the frequency of each count\n",
    "        frequency = counts.value_counts().to_dict()\n",
    "\n",
    "        # Store the frequency table in the dictionary\n",
    "        frequency_table[column] = frequency\n",
    "    \n",
    "    return frequency_table"
   ]
  },
  {
   "cell_type": "code",
   "execution_count": 65,
   "id": "939bbb40",
   "metadata": {},
   "outputs": [
    {
     "name": "stdout",
     "output_type": "stream",
     "text": [
      "{'ID': {0: 94379}, 'Age': {0: 94346, 3: 33}, 'Travel_Distance': {0: 94379}, 'Departure_Delay_in_Mins': {0: 94322, 3: 57}, 'Arrival_Delay_in_Mins': {0: 94022, 3: 357}}\n"
     ]
    }
   ],
   "source": [
    "# Print the bad data in travel_train\n",
    "result = get_bad_character_frequency(t_travel_train)\n",
    "print(result)"
   ]
  },
  {
   "cell_type": "code",
   "execution_count": 66,
   "id": "27f7f7a7",
   "metadata": {},
   "outputs": [],
   "source": [
    "# Fix Columns in travel_test dataset with bad data\n",
    "columns_to_clean = ['Age', 'Travel_Distance', 'Departure_Delay_in_Mins', 'Arrival_Delay_in_Mins']\n",
    "\n",
    "# Iterate over the specified columns\n",
    "for column in columns_to_clean:\n",
    "    # Replace the occurrences of 'NaNNaNNaN' with a single 'NaN'\n",
    "    t_travel_test[column] = t_travel_test[column].replace('NaNNaNNaN', np.nan)\n",
    "\n",
    "    # Convert the column to float type\n",
    "    t_travel_test[column] = t_travel_test[column].astype(float)"
   ]
  },
  {
   "cell_type": "code",
   "execution_count": 67,
   "id": "479480a9",
   "metadata": {},
   "outputs": [],
   "source": [
    "# Fix Columns in travel_train dataset with bad data\n",
    "columns_to_clean = ['Age', 'Travel_Distance', 'Departure_Delay_in_Mins', 'Arrival_Delay_in_Mins']\n",
    "\n",
    "# Iterate over the specified columns\n",
    "for column in columns_to_clean:\n",
    "    # Replace the occurrences of 'NaNNaNNaN' with a single 'NaN'\n",
    "    t_travel_train[column] = t_travel_train[column].replace('NaNNaNNaN', np.nan)\n",
    "\n",
    "    # Convert the column to float type\n",
    "    t_travel_train[column] = t_travel_train[column].astype(float)"
   ]
  },
  {
   "cell_type": "markdown",
   "id": "395285c6",
   "metadata": {},
   "source": [
    "### **Missing Data:**"
   ]
  },
  {
   "cell_type": "code",
   "execution_count": 68,
   "id": "8237affe",
   "metadata": {},
   "outputs": [
    {
     "data": {
      "text/plain": [
       "ID                            0\n",
       "Overall_Experience            0\n",
       "Seat_Comfort                 61\n",
       "Seat_Class                    0\n",
       "Arrival_Time_Convenient    8930\n",
       "Catering                   8741\n",
       "Platform_Location            30\n",
       "Onboard_Wifi_Service         30\n",
       "Onboard_Entertainment        18\n",
       "Online_Support               91\n",
       "Ease_of_Online_Booking       73\n",
       "Onboard_Service            7601\n",
       "Legroom                      90\n",
       "Baggage_Handling            142\n",
       "CheckIn_Service              77\n",
       "Cleanliness                   6\n",
       "Online_Boarding               6\n",
       "dtype: int64"
      ]
     },
     "execution_count": 68,
     "metadata": {},
     "output_type": "execute_result"
    }
   ],
   "source": [
    "s_train_null = t_survey_train.isnull().sum()\n",
    "s_train_null"
   ]
  },
  {
   "cell_type": "code",
   "execution_count": 69,
   "id": "2f65c8b1",
   "metadata": {},
   "outputs": [
    {
     "data": {
      "text/plain": [
       "ID                            0\n",
       "Seat_Comfort                 22\n",
       "Seat_Class                    0\n",
       "Arrival_Time_Convenient    3325\n",
       "Catering                   3357\n",
       "Platform_Location            12\n",
       "Onboard_Wifi_Service         12\n",
       "Onboard_Entertainment         8\n",
       "Online_Support               26\n",
       "Ease_of_Online_Booking       18\n",
       "Onboard_Service            2872\n",
       "Legroom                      25\n",
       "Baggage_Handling             40\n",
       "CheckIn_Service              22\n",
       "Cleanliness                   2\n",
       "Online_Boarding               2\n",
       "dtype: int64"
      ]
     },
     "execution_count": 69,
     "metadata": {},
     "output_type": "execute_result"
    }
   ],
   "source": [
    "s_test_null = t_survey_test.isnull().sum()\n",
    "s_test_null"
   ]
  },
  {
   "cell_type": "code",
   "execution_count": 70,
   "id": "26ecd1de",
   "metadata": {},
   "outputs": [
    {
     "data": {
      "text/plain": [
       "ID                            0\n",
       "Gender                       77\n",
       "Customer_Type              8951\n",
       "Age                          33\n",
       "Type_Travel                9226\n",
       "Travel_Class                  0\n",
       "Travel_Distance               0\n",
       "Departure_Delay_in_Mins      57\n",
       "Arrival_Delay_in_Mins       357\n",
       "dtype: int64"
      ]
     },
     "execution_count": 70,
     "metadata": {},
     "output_type": "execute_result"
    }
   ],
   "source": [
    "t_train_null = t_travel_train.isnull().sum()\n",
    "t_train_null"
   ]
  },
  {
   "cell_type": "code",
   "execution_count": 71,
   "id": "58e1e2d6",
   "metadata": {},
   "outputs": [
    {
     "data": {
      "text/plain": [
       "ID                            0\n",
       "Gender                       30\n",
       "Customer_Type              3383\n",
       "Age                          11\n",
       "Type_Travel                3448\n",
       "Travel_Class                  0\n",
       "Travel_Distance               0\n",
       "Departure_Delay_in_Mins      29\n",
       "Arrival_Delay_in_Mins       123\n",
       "dtype: int64"
      ]
     },
     "execution_count": 71,
     "metadata": {},
     "output_type": "execute_result"
    }
   ],
   "source": [
    "t_test_null = t_travel_test.isnull().sum()\n",
    "t_test_null"
   ]
  },
  {
   "cell_type": "markdown",
   "id": "93eca6dc",
   "metadata": {},
   "source": [
    "## Data Cleaning:\n",
    "- Missing data in all four Survey and Travel train and test data sets --> Apply consistent preprocessing steps to datasets\n",
    "- Impute values in the numerical and categorical columns"
   ]
  },
  {
   "cell_type": "code",
   "execution_count": 72,
   "id": "001ca2b0",
   "metadata": {},
   "outputs": [],
   "source": [
    "# Imputing the most frequent value for missing categorical values in the survey train dataset\n",
    "t_survey_train['Seat_Comfort'].fillna(survey_train['Seat_Comfort'].mode()[0], inplace=True)\n",
    "t_survey_train['Arrival_Time_Convenient'].fillna(survey_train['Arrival_Time_Convenient'].mode()[0], inplace=True)\n",
    "t_survey_train['Catering'].fillna(survey_train['Catering'].mode()[0], inplace=True)\n",
    "t_survey_train['Platform_Location'].fillna(survey_train['Platform_Location'].mode()[0], inplace=True)\n",
    "t_survey_train['Onboard_Wifi_Service'].fillna(survey_train['Onboard_Wifi_Service'].mode()[0], inplace=True)\n",
    "t_survey_train['Onboard_Entertainment'].fillna(survey_train['Onboard_Entertainment'].mode()[0], inplace=True)\n",
    "t_survey_train['Online_Support'].fillna(survey_train['Online_Support'].mode()[0], inplace=True)\n",
    "t_survey_train['Ease_of_Online_Booking'].fillna(survey_train['Ease_of_Online_Booking'].mode()[0], inplace=True)\n",
    "t_survey_train['Onboard_Service'].fillna(survey_train['Onboard_Service'].mode()[0], inplace=True)\n",
    "t_survey_train['Legroom'].fillna(survey_train['Legroom'].mode()[0], inplace=True)\n",
    "t_survey_train['Baggage_Handling'].fillna(survey_train['Baggage_Handling'].mode()[0], inplace=True)\n",
    "t_survey_train['CheckIn_Service'].fillna(survey_train['CheckIn_Service'].mode()[0], inplace=True)\n",
    "t_survey_train['Cleanliness'].fillna(survey_train['Cleanliness'].mode()[0], inplace=True)\n",
    "t_survey_train['Online_Boarding'].fillna(survey_train['Online_Boarding'].mode()[0], inplace=True)\n",
    "\n",
    "# t_survey_train_null = t_survey_train.isnull().sum()\n",
    "# t_survey_train_null"
   ]
  },
  {
   "cell_type": "code",
   "execution_count": 73,
   "id": "2c5b91d1",
   "metadata": {},
   "outputs": [],
   "source": [
    "# Imputing the most frequent value for missing categorical values in the survey test dataset\n",
    "t_survey_test['Seat_Comfort'].fillna(survey_train['Seat_Comfort'].mode()[0], inplace=True)\n",
    "t_survey_test['Arrival_Time_Convenient'].fillna(survey_train['Arrival_Time_Convenient'].mode()[0], inplace=True)\n",
    "t_survey_test['Catering'].fillna(survey_train['Catering'].mode()[0], inplace=True)\n",
    "t_survey_test['Platform_Location'].fillna(survey_train['Platform_Location'].mode()[0], inplace=True)\n",
    "t_survey_test['Onboard_Wifi_Service'].fillna(survey_train['Onboard_Wifi_Service'].mode()[0], inplace=True)\n",
    "t_survey_test['Onboard_Entertainment'].fillna(survey_train['Onboard_Entertainment'].mode()[0], inplace=True)\n",
    "t_survey_test['Online_Support'].fillna(survey_train['Online_Support'].mode()[0], inplace=True)\n",
    "t_survey_test['Ease_of_Online_Booking'].fillna(survey_train['Ease_of_Online_Booking'].mode()[0], inplace=True)\n",
    "t_survey_test['Onboard_Service'].fillna(survey_train['Onboard_Service'].mode()[0], inplace=True)\n",
    "t_survey_test['Legroom'].fillna(survey_train['Legroom'].mode()[0], inplace=True)\n",
    "t_survey_test['Baggage_Handling'].fillna(survey_train['Baggage_Handling'].mode()[0], inplace=True)\n",
    "t_survey_test['CheckIn_Service'].fillna(survey_train['CheckIn_Service'].mode()[0], inplace=True)\n",
    "t_survey_test['Cleanliness'].fillna(survey_train['Cleanliness'].mode()[0], inplace=True)\n",
    "t_survey_test['Online_Boarding'].fillna(survey_train['Online_Boarding'].mode()[0], inplace=True)\n",
    "\n",
    "# t_survey_test_null = t_survey_test.isnull().sum()\n",
    "# t_survey_test_null"
   ]
  },
  {
   "cell_type": "code",
   "execution_count": 74,
   "id": "b90cfaeb",
   "metadata": {},
   "outputs": [],
   "source": [
    "# Imputing the most frequent value for missing numerical and categorical values in the travel train dataset\n",
    "t_travel_train['Gender'].fillna(t_travel_train['Gender'].mode()[0], inplace=True)\n",
    "t_travel_train['Customer_Type'].fillna(t_travel_train['Customer_Type'].mode()[0], inplace=True)\n",
    "t_travel_train['Type_Travel'].fillna(t_travel_train['Type_Travel'].mode()[0], inplace=True)\n",
    "\n",
    "# Calculate the mean values for null numerical values\n",
    "mean_age = t_travel_train['Age'].mean()\n",
    "mean_departure = t_travel_train['Departure_Delay_in_Mins'].mean()\n",
    "mean_arrival = t_travel_train['Arrival_Delay_in_Mins'].mean()\n",
    "\n",
    "# Impute missing values with the mean age\n",
    "t_travel_train['Age'].fillna(mean_age, inplace=True)\n",
    "t_travel_train['Departure_Delay_in_Mins'].fillna(mean_departure, inplace=True)\n",
    "t_travel_train['Arrival_Delay_in_Mins'].fillna(mean_arrival, inplace=True)\n",
    "\n",
    "# t_travel_train_null = t_travel_train.isnull().sum()\n",
    "# t_travel_train_null"
   ]
  },
  {
   "cell_type": "code",
   "execution_count": 75,
   "id": "9c01a83e",
   "metadata": {},
   "outputs": [],
   "source": [
    "# Imputing the most frequent value for missing numerical and categorical values in the travel test dataset\n",
    "t_travel_test['Gender'].fillna(t_travel_test['Gender'].mode()[0], inplace=True)\n",
    "t_travel_test['Customer_Type'].fillna(t_travel_test['Customer_Type'].mode()[0], inplace=True)\n",
    "t_travel_test['Type_Travel'].fillna(t_travel_test['Type_Travel'].mode()[0], inplace=True)\n",
    "\n",
    "# Calculate the mean values for null numerical values\n",
    "mean_age = t_travel_test['Age'].mean()\n",
    "mean_departure = t_travel_test['Departure_Delay_in_Mins'].mean()\n",
    "mean_arrival = t_travel_test['Arrival_Delay_in_Mins'].mean()\n",
    "\n",
    "# Impute missing values with the mean age\n",
    "t_travel_test['Age'].fillna(mean_age, inplace=True)\n",
    "t_travel_test['Departure_Delay_in_Mins'].fillna(mean_departure, inplace=True)\n",
    "t_travel_test['Arrival_Delay_in_Mins'].fillna(mean_arrival, inplace=True)\n",
    "\n",
    "# t_travel_test_null = t_travel_test.isnull().sum()\n",
    "# t_travel_test_null"
   ]
  },
  {
   "cell_type": "markdown",
   "id": "4aa57f8d",
   "metadata": {},
   "source": [
    "## Merge survey and travel datasets on ID for both train and test"
   ]
  },
  {
   "cell_type": "code",
   "execution_count": 76,
   "id": "8e62c7ff",
   "metadata": {},
   "outputs": [
    {
     "name": "stdout",
     "output_type": "stream",
     "text": [
      "<class 'pandas.core.frame.DataFrame'>\n",
      "RangeIndex: 94379 entries, 0 to 94378\n",
      "Data columns (total 17 columns):\n",
      " #   Column                   Non-Null Count  Dtype \n",
      "---  ------                   --------------  ----- \n",
      " 0   ID                       94379 non-null  int64 \n",
      " 1   Overall_Experience       94379 non-null  int64 \n",
      " 2   Seat_Comfort             94379 non-null  object\n",
      " 3   Seat_Class               94379 non-null  object\n",
      " 4   Arrival_Time_Convenient  94379 non-null  object\n",
      " 5   Catering                 94379 non-null  object\n",
      " 6   Platform_Location        94379 non-null  object\n",
      " 7   Onboard_Wifi_Service     94379 non-null  object\n",
      " 8   Onboard_Entertainment    94379 non-null  object\n",
      " 9   Online_Support           94379 non-null  object\n",
      " 10  Ease_of_Online_Booking   94379 non-null  object\n",
      " 11  Onboard_Service          94379 non-null  object\n",
      " 12  Legroom                  94379 non-null  object\n",
      " 13  Baggage_Handling         94379 non-null  object\n",
      " 14  CheckIn_Service          94379 non-null  object\n",
      " 15  Cleanliness              94379 non-null  object\n",
      " 16  Online_Boarding          94379 non-null  object\n",
      "dtypes: int64(2), object(15)\n",
      "memory usage: 12.2+ MB\n"
     ]
    }
   ],
   "source": [
    "t_survey_train.info()"
   ]
  },
  {
   "cell_type": "code",
   "execution_count": 77,
   "id": "7c275f1e",
   "metadata": {},
   "outputs": [
    {
     "name": "stdout",
     "output_type": "stream",
     "text": [
      "<class 'pandas.core.frame.DataFrame'>\n",
      "RangeIndex: 94379 entries, 0 to 94378\n",
      "Data columns (total 9 columns):\n",
      " #   Column                   Non-Null Count  Dtype  \n",
      "---  ------                   --------------  -----  \n",
      " 0   ID                       94379 non-null  object \n",
      " 1   Gender                   94379 non-null  object \n",
      " 2   Customer_Type            94379 non-null  object \n",
      " 3   Age                      94379 non-null  float64\n",
      " 4   Type_Travel              94379 non-null  object \n",
      " 5   Travel_Class             94379 non-null  object \n",
      " 6   Travel_Distance          94379 non-null  float64\n",
      " 7   Departure_Delay_in_Mins  94379 non-null  float64\n",
      " 8   Arrival_Delay_in_Mins    94379 non-null  float64\n",
      "dtypes: float64(4), object(5)\n",
      "memory usage: 6.5+ MB\n"
     ]
    }
   ],
   "source": [
    "t_travel_train.info()"
   ]
  },
  {
   "cell_type": "code",
   "execution_count": 78,
   "id": "9c0ca686",
   "metadata": {},
   "outputs": [],
   "source": [
    "# Merge train datasets\n",
    "t_travel_train['ID'] = t_travel_train['ID'].astype(np.int64)\n",
    "df_train = pd.merge(t_travel_train, t_survey_train, on='ID')"
   ]
  },
  {
   "cell_type": "code",
   "execution_count": 79,
   "id": "05f5abbf",
   "metadata": {},
   "outputs": [
    {
     "name": "stdout",
     "output_type": "stream",
     "text": [
      "<class 'pandas.core.frame.DataFrame'>\n",
      "RangeIndex: 35602 entries, 0 to 35601\n",
      "Data columns (total 9 columns):\n",
      " #   Column                   Non-Null Count  Dtype  \n",
      "---  ------                   --------------  -----  \n",
      " 0   ID                       35602 non-null  int64  \n",
      " 1   Gender                   35602 non-null  object \n",
      " 2   Customer_Type            35602 non-null  object \n",
      " 3   Age                      35602 non-null  float64\n",
      " 4   Type_Travel              35602 non-null  object \n",
      " 5   Travel_Class             35602 non-null  object \n",
      " 6   Travel_Distance          35602 non-null  float64\n",
      " 7   Departure_Delay_in_Mins  35602 non-null  float64\n",
      " 8   Arrival_Delay_in_Mins    35602 non-null  float64\n",
      "dtypes: float64(4), int64(1), object(4)\n",
      "memory usage: 2.4+ MB\n"
     ]
    }
   ],
   "source": [
    "t_travel_test.info()"
   ]
  },
  {
   "cell_type": "code",
   "execution_count": 80,
   "id": "5ed91089",
   "metadata": {},
   "outputs": [
    {
     "name": "stdout",
     "output_type": "stream",
     "text": [
      "<class 'pandas.core.frame.DataFrame'>\n",
      "RangeIndex: 35602 entries, 0 to 35601\n",
      "Data columns (total 16 columns):\n",
      " #   Column                   Non-Null Count  Dtype \n",
      "---  ------                   --------------  ----- \n",
      " 0   ID                       35602 non-null  int64 \n",
      " 1   Seat_Comfort             35602 non-null  object\n",
      " 2   Seat_Class               35602 non-null  object\n",
      " 3   Arrival_Time_Convenient  35602 non-null  object\n",
      " 4   Catering                 35602 non-null  object\n",
      " 5   Platform_Location        35602 non-null  object\n",
      " 6   Onboard_Wifi_Service     35602 non-null  object\n",
      " 7   Onboard_Entertainment    35602 non-null  object\n",
      " 8   Online_Support           35602 non-null  object\n",
      " 9   Ease_of_Online_Booking   35602 non-null  object\n",
      " 10  Onboard_Service          35602 non-null  object\n",
      " 11  Legroom                  35602 non-null  object\n",
      " 12  Baggage_Handling         35602 non-null  object\n",
      " 13  CheckIn_Service          35602 non-null  object\n",
      " 14  Cleanliness              35602 non-null  object\n",
      " 15  Online_Boarding          35602 non-null  object\n",
      "dtypes: int64(1), object(15)\n",
      "memory usage: 4.3+ MB\n"
     ]
    }
   ],
   "source": [
    "t_survey_test.info()"
   ]
  },
  {
   "cell_type": "code",
   "execution_count": 81,
   "id": "fa26c546",
   "metadata": {},
   "outputs": [],
   "source": [
    "# Merge test datasets\n",
    "df_test = pd.merge(t_travel_test, t_survey_test, on='ID')"
   ]
  },
  {
   "cell_type": "markdown",
   "id": "c8e3be62",
   "metadata": {},
   "source": [
    "# Preprocessing:"
   ]
  },
  {
   "cell_type": "markdown",
   "id": "ea8e415d",
   "metadata": {},
   "source": [
    "## **Splitting the df_train data into 80% train and 20% test sets**"
   ]
  },
  {
   "cell_type": "code",
   "execution_count": 82,
   "id": "fe266ece",
   "metadata": {},
   "outputs": [],
   "source": [
    "# Split the data into features (X) and target variable (y)\n",
    "X = df_train.drop('Overall_Experience', axis=1)\n",
    "y = df_train['Overall_Experience']\n",
    "\n",
    "# Split the data into training and testing sets\n",
    "X_train, X_test, y_train, y_test = train_test_split(X, y, test_size=0.2, random_state=23)"
   ]
  },
  {
   "cell_type": "markdown",
   "id": "aeb85288",
   "metadata": {},
   "source": [
    "## Encode the categorical variables in the survey and travel datasets"
   ]
  },
  {
   "cell_type": "code",
   "execution_count": 83,
   "id": "5b486d53",
   "metadata": {},
   "outputs": [
    {
     "name": "stdout",
     "output_type": "stream",
     "text": [
      "<class 'pandas.core.frame.DataFrame'>\n",
      "Int64Index: 94379 entries, 0 to 94378\n",
      "Data columns (total 25 columns):\n",
      " #   Column                   Non-Null Count  Dtype  \n",
      "---  ------                   --------------  -----  \n",
      " 0   ID                       94379 non-null  int64  \n",
      " 1   Gender                   94379 non-null  object \n",
      " 2   Customer_Type            94379 non-null  object \n",
      " 3   Age                      94379 non-null  float64\n",
      " 4   Type_Travel              94379 non-null  object \n",
      " 5   Travel_Class             94379 non-null  object \n",
      " 6   Travel_Distance          94379 non-null  float64\n",
      " 7   Departure_Delay_in_Mins  94379 non-null  float64\n",
      " 8   Arrival_Delay_in_Mins    94379 non-null  float64\n",
      " 9   Overall_Experience       94379 non-null  int64  \n",
      " 10  Seat_Comfort             94379 non-null  object \n",
      " 11  Seat_Class               94379 non-null  object \n",
      " 12  Arrival_Time_Convenient  94379 non-null  object \n",
      " 13  Catering                 94379 non-null  object \n",
      " 14  Platform_Location        94379 non-null  object \n",
      " 15  Onboard_Wifi_Service     94379 non-null  object \n",
      " 16  Onboard_Entertainment    94379 non-null  object \n",
      " 17  Online_Support           94379 non-null  object \n",
      " 18  Ease_of_Online_Booking   94379 non-null  object \n",
      " 19  Onboard_Service          94379 non-null  object \n",
      " 20  Legroom                  94379 non-null  object \n",
      " 21  Baggage_Handling         94379 non-null  object \n",
      " 22  CheckIn_Service          94379 non-null  object \n",
      " 23  Cleanliness              94379 non-null  object \n",
      " 24  Online_Boarding          94379 non-null  object \n",
      "dtypes: float64(4), int64(2), object(19)\n",
      "memory usage: 18.7+ MB\n"
     ]
    }
   ],
   "source": [
    "df_train.info()"
   ]
  },
  {
   "cell_type": "code",
   "execution_count": 84,
   "id": "e3e5b4d7",
   "metadata": {},
   "outputs": [],
   "source": [
    "# Drop the specified columns from the dataset\n",
    "X_train = X_train.drop(['Gender', 'Travel_Distance', 'Arrival_Time_Convenient', 'Catering',\n",
    "                        'Platform_Location', 'Online_Support', 'Ease_of_Online_Booking'], axis=1)\n",
    "X_test = X_test.drop(['Gender', 'Travel_Distance', 'Arrival_Time_Convenient', 'Catering',\n",
    "                      'Platform_Location', 'Online_Support', 'Ease_of_Online_Booking'], axis=1)"
   ]
  },
  {
   "cell_type": "code",
   "execution_count": 85,
   "id": "5e1b2b41",
   "metadata": {},
   "outputs": [
    {
     "name": "stdout",
     "output_type": "stream",
     "text": [
      "<class 'pandas.core.frame.DataFrame'>\n",
      "Int64Index: 35602 entries, 0 to 35601\n",
      "Data columns (total 24 columns):\n",
      " #   Column                   Non-Null Count  Dtype  \n",
      "---  ------                   --------------  -----  \n",
      " 0   ID                       35602 non-null  int64  \n",
      " 1   Gender                   35602 non-null  object \n",
      " 2   Customer_Type            35602 non-null  object \n",
      " 3   Age                      35602 non-null  float64\n",
      " 4   Type_Travel              35602 non-null  object \n",
      " 5   Travel_Class             35602 non-null  object \n",
      " 6   Travel_Distance          35602 non-null  float64\n",
      " 7   Departure_Delay_in_Mins  35602 non-null  float64\n",
      " 8   Arrival_Delay_in_Mins    35602 non-null  float64\n",
      " 9   Seat_Comfort             35602 non-null  object \n",
      " 10  Seat_Class               35602 non-null  object \n",
      " 11  Arrival_Time_Convenient  35602 non-null  object \n",
      " 12  Catering                 35602 non-null  object \n",
      " 13  Platform_Location        35602 non-null  object \n",
      " 14  Onboard_Wifi_Service     35602 non-null  object \n",
      " 15  Onboard_Entertainment    35602 non-null  object \n",
      " 16  Online_Support           35602 non-null  object \n",
      " 17  Ease_of_Online_Booking   35602 non-null  object \n",
      " 18  Onboard_Service          35602 non-null  object \n",
      " 19  Legroom                  35602 non-null  object \n",
      " 20  Baggage_Handling         35602 non-null  object \n",
      " 21  CheckIn_Service          35602 non-null  object \n",
      " 22  Cleanliness              35602 non-null  object \n",
      " 23  Online_Boarding          35602 non-null  object \n",
      "dtypes: float64(4), int64(1), object(19)\n",
      "memory usage: 6.8+ MB\n"
     ]
    }
   ],
   "source": [
    "df_test.info()"
   ]
  },
  {
   "cell_type": "markdown",
   "id": "b0c332fc",
   "metadata": {},
   "source": [
    "## Normalize the numerical features using StandardScaler"
   ]
  },
  {
   "cell_type": "code",
   "execution_count": 86,
   "id": "a0626f29",
   "metadata": {},
   "outputs": [],
   "source": [
    "from sklearn.preprocessing import StandardScaler\n",
    "\n",
    "# Create an instance of StandardScaler\n",
    "scaler = StandardScaler()\n",
    "\n",
    "# Normalize the numerical features in the training data\n",
    "numerical_cols = ['Age', 'Departure_Delay_in_Mins', 'Arrival_Delay_in_Mins']\n",
    "X_train[numerical_cols] = scaler.fit_transform(X_train[numerical_cols])\n",
    "\n",
    "# Normalize the numerical features in the testing data using the same scaler\n",
    "X_test[numerical_cols] = scaler.transform(X_test[numerical_cols])"
   ]
  },
  {
   "cell_type": "markdown",
   "id": "207b0072",
   "metadata": {},
   "source": [
    "## df_test preprocessing"
   ]
  },
  {
   "cell_type": "code",
   "execution_count": 87,
   "id": "82a7d5cc",
   "metadata": {},
   "outputs": [],
   "source": [
    "# Create an instance of OneHotEncoder\n",
    "encoder = OneHotEncoder(sparse=False, handle_unknown='ignore')\n",
    "\n",
    "# One-hot encode categorical columns in training dataset\n",
    "categorical_cols = ['Customer_Type','Type_Travel','Travel_Class','Seat_Comfort', 'Seat_Class', \n",
    "                    'Onboard_Wifi_Service','Onboard_Entertainment','Onboard_Service','Legroom',\n",
    "                    'Baggage_Handling', 'CheckIn_Service', 'Cleanliness','Online_Boarding']\n",
    "\n",
    "# 'Gender','Travel_Distance','Arrival_Time_Convenient','Catering','Platform_Location','Online_Support','Ease_of_Online_Booking',\n",
    "\n",
    "# Encode the categorical features in the training data\n",
    "encoded_X_train = encoder.fit_transform(X_train[categorical_cols])\n",
    "\n",
    "# Encode the categorical features in the testing data using the same encoder\n",
    "encoded_X_test = encoder.transform(X_test[categorical_cols])"
   ]
  },
  {
   "cell_type": "markdown",
   "id": "ab395089",
   "metadata": {},
   "source": [
    "## Concatenate the normalized numerical features and the encoded categorical features"
   ]
  },
  {
   "cell_type": "code",
   "execution_count": 88,
   "id": "c3233c14",
   "metadata": {},
   "outputs": [],
   "source": [
    "# Concatenate the normalized numerical features and the encoded categorical features for training data\n",
    "X_train_final = np.concatenate((X_train[numerical_cols].values, encoded_X_train), axis=1)\n",
    "\n",
    "# Concatenate the normalized numerical features and the encoded categorical features for testing data\n",
    "X_test_final = np.concatenate((X_test[numerical_cols].values, encoded_X_test), axis=1)"
   ]
  },
  {
   "cell_type": "code",
   "execution_count": 89,
   "id": "01f2f73a",
   "metadata": {},
   "outputs": [],
   "source": [
    "def metrics_score(actual, predicted):\n",
    "\n",
    "    print(classification_report(actual, predicted))\n",
    "\n",
    "    cm = confusion_matrix(actual, predicted)\n",
    "\n",
    "    plt.figure(figsize = (8, 5))\n",
    "\n",
    "    sns.heatmap(cm, annot = True, fmt = '.2f', xticklabels = ['Not Satisfied', 'Satisfied'], yticklabels = ['Not Satisfied', 'Satisfied'])\n",
    "\n",
    "    plt.ylabel('Actual')\n",
    "\n",
    "    plt.xlabel('Predicted')\n",
    "    \n",
    "    plt.show()"
   ]
  },
  {
   "cell_type": "markdown",
   "id": "425b1847",
   "metadata": {},
   "source": [
    "## Fit Logistic Regression Model"
   ]
  },
  {
   "cell_type": "code",
   "execution_count": 90,
   "id": "7150f469",
   "metadata": {},
   "outputs": [
    {
     "data": {
      "text/html": [
       "<style>#sk-container-id-2 {color: black;}#sk-container-id-2 pre{padding: 0;}#sk-container-id-2 div.sk-toggleable {background-color: white;}#sk-container-id-2 label.sk-toggleable__label {cursor: pointer;display: block;width: 100%;margin-bottom: 0;padding: 0.3em;box-sizing: border-box;text-align: center;}#sk-container-id-2 label.sk-toggleable__label-arrow:before {content: \"▸\";float: left;margin-right: 0.25em;color: #696969;}#sk-container-id-2 label.sk-toggleable__label-arrow:hover:before {color: black;}#sk-container-id-2 div.sk-estimator:hover label.sk-toggleable__label-arrow:before {color: black;}#sk-container-id-2 div.sk-toggleable__content {max-height: 0;max-width: 0;overflow: hidden;text-align: left;background-color: #f0f8ff;}#sk-container-id-2 div.sk-toggleable__content pre {margin: 0.2em;color: black;border-radius: 0.25em;background-color: #f0f8ff;}#sk-container-id-2 input.sk-toggleable__control:checked~div.sk-toggleable__content {max-height: 200px;max-width: 100%;overflow: auto;}#sk-container-id-2 input.sk-toggleable__control:checked~label.sk-toggleable__label-arrow:before {content: \"▾\";}#sk-container-id-2 div.sk-estimator input.sk-toggleable__control:checked~label.sk-toggleable__label {background-color: #d4ebff;}#sk-container-id-2 div.sk-label input.sk-toggleable__control:checked~label.sk-toggleable__label {background-color: #d4ebff;}#sk-container-id-2 input.sk-hidden--visually {border: 0;clip: rect(1px 1px 1px 1px);clip: rect(1px, 1px, 1px, 1px);height: 1px;margin: -1px;overflow: hidden;padding: 0;position: absolute;width: 1px;}#sk-container-id-2 div.sk-estimator {font-family: monospace;background-color: #f0f8ff;border: 1px dotted black;border-radius: 0.25em;box-sizing: border-box;margin-bottom: 0.5em;}#sk-container-id-2 div.sk-estimator:hover {background-color: #d4ebff;}#sk-container-id-2 div.sk-parallel-item::after {content: \"\";width: 100%;border-bottom: 1px solid gray;flex-grow: 1;}#sk-container-id-2 div.sk-label:hover label.sk-toggleable__label {background-color: #d4ebff;}#sk-container-id-2 div.sk-serial::before {content: \"\";position: absolute;border-left: 1px solid gray;box-sizing: border-box;top: 0;bottom: 0;left: 50%;z-index: 0;}#sk-container-id-2 div.sk-serial {display: flex;flex-direction: column;align-items: center;background-color: white;padding-right: 0.2em;padding-left: 0.2em;position: relative;}#sk-container-id-2 div.sk-item {position: relative;z-index: 1;}#sk-container-id-2 div.sk-parallel {display: flex;align-items: stretch;justify-content: center;background-color: white;position: relative;}#sk-container-id-2 div.sk-item::before, #sk-container-id-2 div.sk-parallel-item::before {content: \"\";position: absolute;border-left: 1px solid gray;box-sizing: border-box;top: 0;bottom: 0;left: 50%;z-index: -1;}#sk-container-id-2 div.sk-parallel-item {display: flex;flex-direction: column;z-index: 1;position: relative;background-color: white;}#sk-container-id-2 div.sk-parallel-item:first-child::after {align-self: flex-end;width: 50%;}#sk-container-id-2 div.sk-parallel-item:last-child::after {align-self: flex-start;width: 50%;}#sk-container-id-2 div.sk-parallel-item:only-child::after {width: 0;}#sk-container-id-2 div.sk-dashed-wrapped {border: 1px dashed gray;margin: 0 0.4em 0.5em 0.4em;box-sizing: border-box;padding-bottom: 0.4em;background-color: white;}#sk-container-id-2 div.sk-label label {font-family: monospace;font-weight: bold;display: inline-block;line-height: 1.2em;}#sk-container-id-2 div.sk-label-container {text-align: center;}#sk-container-id-2 div.sk-container {/* jupyter's `normalize.less` sets `[hidden] { display: none; }` but bootstrap.min.css set `[hidden] { display: none !important; }` so we also need the `!important` here to be able to override the default hidden behavior on the sphinx rendered scikit-learn.org. See: https://github.com/scikit-learn/scikit-learn/issues/21755 */display: inline-block !important;position: relative;}#sk-container-id-2 div.sk-text-repr-fallback {display: none;}</style><div id=\"sk-container-id-2\" class=\"sk-top-container\"><div class=\"sk-text-repr-fallback\"><pre>LogisticRegression(penalty=&#x27;l1&#x27;, solver=&#x27;liblinear&#x27;)</pre><b>In a Jupyter environment, please rerun this cell to show the HTML representation or trust the notebook. <br />On GitHub, the HTML representation is unable to render, please try loading this page with nbviewer.org.</b></div><div class=\"sk-container\" hidden><div class=\"sk-item\"><div class=\"sk-estimator sk-toggleable\"><input class=\"sk-toggleable__control sk-hidden--visually\" id=\"sk-estimator-id-2\" type=\"checkbox\" checked><label for=\"sk-estimator-id-2\" class=\"sk-toggleable__label sk-toggleable__label-arrow\">LogisticRegression</label><div class=\"sk-toggleable__content\"><pre>LogisticRegression(penalty=&#x27;l1&#x27;, solver=&#x27;liblinear&#x27;)</pre></div></div></div></div></div>"
      ],
      "text/plain": [
       "LogisticRegression(penalty='l1', solver='liblinear')"
      ]
     },
     "execution_count": 90,
     "metadata": {},
     "output_type": "execute_result"
    }
   ],
   "source": [
    "# Fitting the logistic regression model\n",
    "\n",
    "# Create an instance of LogisticRegression with L1 regularization\n",
    "logreg = LogisticRegression(penalty='l1', solver='liblinear', C=1.0)\n",
    "\n",
    "# Fit the logistic regression model\n",
    "logreg.fit(encoded_X_train, y_train)\n"
   ]
  },
  {
   "cell_type": "code",
   "execution_count": 91,
   "id": "bb9720e5",
   "metadata": {},
   "outputs": [
    {
     "name": "stdout",
     "output_type": "stream",
     "text": [
      "              precision    recall  f1-score   support\n",
      "\n",
      "           0       0.87      0.88      0.87     34206\n",
      "           1       0.90      0.89      0.89     41297\n",
      "\n",
      "    accuracy                           0.89     75503\n",
      "   macro avg       0.88      0.88      0.88     75503\n",
      "weighted avg       0.89      0.89      0.89     75503\n",
      "\n"
     ]
    },
    {
     "data": {
      "image/png": "[encoded data removed]",
      "text/plain": [
       "<Figure size 800x500 with 2 Axes>"
      ]
     },
     "metadata": {},
     "output_type": "display_data"
    }
   ],
   "source": [
    "# Checking the performance on the training data\n",
    "y_pred_train = logreg.predict(encoded_X_train)\n",
    "\n",
    "metrics_score(y_train, y_pred_train)"
   ]
  },
  {
   "cell_type": "code",
   "execution_count": 92,
   "id": "bb0e4eaa",
   "metadata": {},
   "outputs": [
    {
     "name": "stdout",
     "output_type": "stream",
     "text": [
      "Coefficients: [[-2.14710852e+00  0.00000000e+00  0.00000000e+00 -1.03923482e+00\n",
      "   1.07583899e-01 -7.05927123e-01 -7.46392585e-01  4.53006798e+00\n",
      "   1.00614082e+01  0.00000000e+00 -7.11532421e-01 -3.65286751e-01\n",
      "  -2.55453630e-04  0.00000000e+00  0.00000000e+00 -5.52416124e-02\n",
      "  -3.56052996e+00  2.79210193e-01  2.34255633e-01 -4.53309926e-01\n",
      "  -8.09890789e-01  2.58162152e+00 -1.33506719e+00  1.16745288e+00\n",
      "  -7.50190078e-01 -7.79171976e-01  0.00000000e+00  6.66522439e-01\n",
      "   0.00000000e+00  3.69149354e-01 -4.41528198e-01 -6.64043408e-01\n",
      "  -2.65654747e-03  9.22330864e-01 -1.87082157e+00  9.85604876e-01\n",
      "   0.00000000e+00 -2.77445229e-01 -4.20461425e-01  2.77364174e-01\n",
      "   3.16074586e-02  0.00000000e+00 -1.49994659e-01  4.11497409e-02\n",
      "   4.97251734e-01  0.00000000e+00  0.00000000e+00 -1.57818428e-01\n",
      "  -2.68838513e-01 -3.57879510e-01  3.66575933e-01 -8.29026092e-01\n",
      "   7.52171287e-02  0.00000000e+00 -1.98636014e-01  0.00000000e+00\n",
      "   3.60055966e-01 -6.72293189e+00  7.22901865e-02 -5.94012329e-01\n",
      "  -5.66254708e-01]]\n",
      "Intercept: [-0.02446432]\n"
     ]
    }
   ],
   "source": [
    "# Verify the model - Print the coefficients and intercept\n",
    "print(\"Coefficients:\", logreg.coef_)\n",
    "print(\"Intercept:\", logreg.intercept_)"
   ]
  },
  {
   "cell_type": "code",
   "execution_count": 93,
   "id": "c5b00269",
   "metadata": {},
   "outputs": [
    {
     "name": "stdout",
     "output_type": "stream",
     "text": [
      "Customer_Type: -2.1471085157610115\n",
      "Type_Travel: 0.0\n",
      "Travel_Class: 0.0\n",
      "Seat_Comfort: -1.0392348201694706\n",
      "Seat_Class: 0.10758389917044474\n",
      "Onboard_Wifi_Service: -0.7059271228210219\n",
      "Onboard_Entertainment: -0.7463925851677539\n",
      "Onboard_Service: 4.5300679794667325\n",
      "Legroom: 10.061408183031777\n",
      "Baggage_Handling: 0.0\n",
      "CheckIn_Service: -0.7115324214422327\n",
      "Cleanliness: -0.3652867508365131\n",
      "Online_Boarding: -0.00025545363019632123\n"
     ]
    }
   ],
   "source": [
    "# Get the feature names before one-hot encoding\n",
    "original_feature_names = categorical_cols\n",
    "\n",
    "# Create a dictionary to map coefficients to column names\n",
    "coefficients_map = dict(zip(original_feature_names, logreg.coef_[0]))\n",
    "\n",
    "# Print the coefficients and their corresponding column names\n",
    "for feature, coefficient in coefficients_map.items():\n",
    "    print(f\"{feature}: {coefficient}\")"
   ]
  },
  {
   "cell_type": "code",
   "execution_count": 94,
   "id": "60e86b51",
   "metadata": {},
   "outputs": [
    {
     "name": "stdout",
     "output_type": "stream",
     "text": [
      "Training Accuracy: 0.8851436366766884\n"
     ]
    }
   ],
   "source": [
    "# Evaluate the model's performance\n",
    "from sklearn.metrics import accuracy_score\n",
    "\n",
    "# Make predictions on the training data\n",
    "y_train_pred = logreg.predict(encoded_X_train)\n",
    "\n",
    "# Calculate the accuracy\n",
    "train_accuracy = accuracy_score(y_train, y_train_pred)\n",
    "print(\"Training Accuracy:\", train_accuracy)\n"
   ]
  },
  {
   "cell_type": "markdown",
   "id": "12722259",
   "metadata": {},
   "source": [
    "## Let's try some other models: GBM, Neural Networks, Random Forest, SVM"
   ]
  },
  {
   "cell_type": "markdown",
   "id": "02033541",
   "metadata": {},
   "source": [
    "## Gradient Boost Model ##"
   ]
  },
  {
   "cell_type": "code",
   "execution_count": 95,
   "id": "35e8493a",
   "metadata": {},
   "outputs": [
    {
     "name": "stdout",
     "output_type": "stream",
     "text": [
      "Accuracy: 90.21%\n"
     ]
    }
   ],
   "source": [
    "# Fit Gradient Boosting Machine Model\n",
    "from sklearn.ensemble import GradientBoostingClassifier\n",
    "gbm = GradientBoostingClassifier()\n",
    "gbm.fit(encoded_X_train, y_train)\n",
    "y_pred = gbm.predict(encoded_X_test)\n",
    "\n",
    "accuracy = accuracy_score(y_test, y_pred)\n",
    "print(\"Accuracy: {:.2f}%\".format(accuracy * 100))"
   ]
  },
  {
   "cell_type": "markdown",
   "id": "0aadf32f",
   "metadata": {},
   "source": [
    "## Neural Network Model"
   ]
  },
  {
   "cell_type": "code",
   "execution_count": 96,
   "id": "85ad05eb",
   "metadata": {},
   "outputs": [
    {
     "name": "stdout",
     "output_type": "stream",
     "text": [
      "Epoch 1/10\n",
      "2360/2360 [==============================] - 1s 425us/step - loss: 0.2350 - accuracy: 0.8978\n",
      "Epoch 2/10\n",
      "2360/2360 [==============================] - 1s 418us/step - loss: 0.1843 - accuracy: 0.9197\n",
      "Epoch 3/10\n",
      "2360/2360 [==============================] - 1s 422us/step - loss: 0.1702 - accuracy: 0.9264\n",
      "Epoch 4/10\n",
      "2360/2360 [==============================] - 1s 417us/step - loss: 0.1623 - accuracy: 0.9293\n",
      "Epoch 5/10\n",
      "2360/2360 [==============================] - 1s 420us/step - loss: 0.1564 - accuracy: 0.9318\n",
      "Epoch 6/10\n",
      "2360/2360 [==============================] - 1s 423us/step - loss: 0.1521 - accuracy: 0.9345\n",
      "Epoch 7/10\n",
      "2360/2360 [==============================] - 1s 417us/step - loss: 0.1489 - accuracy: 0.9353\n",
      "Epoch 8/10\n",
      "2360/2360 [==============================] - 1s 414us/step - loss: 0.1459 - accuracy: 0.9373\n",
      "Epoch 9/10\n",
      "2360/2360 [==============================] - 1s 419us/step - loss: 0.1432 - accuracy: 0.9379\n",
      "Epoch 10/10\n",
      "2360/2360 [==============================] - 1s 417us/step - loss: 0.1408 - accuracy: 0.9391\n",
      "590/590 [==============================] - 0s 226us/step\n",
      "Accuracy: 93.23%\n"
     ]
    }
   ],
   "source": [
    "# Neural Network Model\n",
    "import tensorflow as tf\n",
    "from tensorflow.keras.models import Sequential\n",
    "from tensorflow.keras.layers import Dense\n",
    "from sklearn.metrics import accuracy_score\n",
    "\n",
    "model = Sequential()\n",
    "model.add(Dense(64, activation='relu', input_shape=(encoded_X_train.shape[1],)))\n",
    "model.add(Dense(64, activation='relu'))\n",
    "model.add(Dense(1, activation='sigmoid'))\n",
    "\n",
    "model.compile(optimizer='adam', loss='binary_crossentropy', metrics=['accuracy'])\n",
    "model.fit(encoded_X_train, y_train, epochs=10, batch_size=32)\n",
    "\n",
    "y_pred_probs = model.predict(encoded_X_test)\n",
    "y_pred = (y_pred_probs > 0.5).astype(int)\n",
    "accuracy = accuracy_score(y_test, y_pred)\n",
    "print(\"Accuracy: {:.2f}%\".format(accuracy * 100))\n"
   ]
  },
  {
   "cell_type": "markdown",
   "id": "f781f0fd",
   "metadata": {},
   "source": [
    "## Random Forest Model"
   ]
  },
  {
   "cell_type": "code",
   "execution_count": 97,
   "id": "14389d2f",
   "metadata": {},
   "outputs": [
    {
     "name": "stdout",
     "output_type": "stream",
     "text": [
      "Accuracy: 92.93%\n"
     ]
    }
   ],
   "source": [
    "from sklearn.ensemble import RandomForestClassifier\n",
    "\n",
    "# Create an instance of the Random Forest Classifier\n",
    "rf_model = RandomForestClassifier(n_estimators=100, random_state=23)\n",
    "\n",
    "# Fit the model to the training data\n",
    "rf_model.fit(encoded_X_train, y_train)\n",
    "\n",
    "# Make predictions on the test data\n",
    "y_pred = rf_model.predict(encoded_X_test)\n",
    "\n",
    "# Calculate the accuracy of the model\n",
    "accuracy = accuracy_score(y_test, y_pred)\n",
    "print(\"Accuracy: {:.2f}%\".format(accuracy * 100))"
   ]
  },
  {
   "cell_type": "markdown",
   "id": "99e36c50",
   "metadata": {},
   "source": [
    "## Support Vector Machine"
   ]
  },
  {
   "cell_type": "code",
   "execution_count": 98,
   "id": "2f242537",
   "metadata": {},
   "outputs": [
    {
     "name": "stdout",
     "output_type": "stream",
     "text": [
      "Accuracy: 93.31%\n"
     ]
    }
   ],
   "source": [
    "from sklearn.svm import SVC\n",
    "\n",
    "# Create an instance of the Support Vector Machine Classifier\n",
    "svm_model = SVC(kernel='rbf', random_state=23)\n",
    "\n",
    "# Fit the model to the training data\n",
    "svm_model.fit(encoded_X_train, y_train)\n",
    "\n",
    "# Make predictions on the test data\n",
    "y_pred = svm_model.predict(encoded_X_test)\n",
    "\n",
    "# Calculate the accuracy of the model\n",
    "accuracy = accuracy_score(y_test, y_pred)\n",
    "print(\"Accuracy: {:.2f}%\".format(accuracy * 100))\n"
   ]
  },
  {
   "cell_type": "markdown",
   "id": "86637b81",
   "metadata": {},
   "source": [
    "## Optimized SVM - Computationally Expensive"
   ]
  },
  {
   "cell_type": "code",
   "execution_count": 99,
   "id": "1642bfa0",
   "metadata": {},
   "outputs": [],
   "source": [
    "# from sklearn.model_selection import GridSearchCV\n",
    "# from sklearn.feature_selection import SelectFromModel\n",
    "\n",
    "# # 1. Hyperparameter Tuning\n",
    "# # Define the parameter grid for grid search\n",
    "# param_grid = {\n",
    "#     'C': [0.1, 1, 10],\n",
    "#     'kernel': ['linear', 'rbf'],\n",
    "#     'gamma': ['scale', 'auto']\n",
    "# }\n",
    "\n",
    "# # Create an SVM classifier\n",
    "# svm = SVC()\n",
    "\n",
    "# # Perform grid search with cross-validation\n",
    "# grid_search = GridSearchCV(svm, param_grid, cv=5)\n",
    "# grid_search.fit(encoded_X_train, y_train)\n",
    "\n",
    "# # Get the best hyperparameters\n",
    "# best_params = grid_search.best_params_\n",
    "\n",
    "# # Train the SVM model with the best hyperparameters\n",
    "# svm_best = SVC(**best_params)\n",
    "# svm_best.fit(encoded_X_train, y_train)\n",
    "\n",
    "# # 2. Feature Selection\n",
    "# # Use feature importance for feature selection\n",
    "# feature_importances = svm_best.coef_[0]\n",
    "# selected_features = SelectFromModel(svm_best, prefit=True).get_support()\n",
    "# X_train_selected = encoded_X_train.loc[:, selected_features]\n",
    "# X_test_selected = encoded_X_test.loc[:, selected_features]\n",
    "\n",
    "# # Train the SVM model with selected features\n",
    "# svm_best_selected = SVC(**best_params)\n",
    "# svm_best_selected.fit(X_train_selected, y_train)\n",
    "\n",
    "# # Evaluate the model\n",
    "# y_pred = svm_best_selected.predict(X_test_selected)\n",
    "# accuracy = accuracy_score(y_test, y_pred)\n",
    "# print(\"Accuracy: {:.2f}%\".format(accuracy * 100))"
   ]
  },
  {
   "cell_type": "markdown",
   "id": "5bae0089",
   "metadata": {},
   "source": [
    "## Optimized Neural Networks"
   ]
  },
  {
   "cell_type": "code",
   "execution_count": 100,
   "id": "0e3af902",
   "metadata": {},
   "outputs": [
    {
     "name": "stdout",
     "output_type": "stream",
     "text": [
      "Epoch 1/20\n",
      "2360/2360 [==============================] - 1s 554us/step - loss: 0.2671 - accuracy: 0.8856 - val_loss: 0.1710 - val_accuracy: 0.9289\n",
      "Epoch 2/20\n",
      "2360/2360 [==============================] - 1s 525us/step - loss: 0.1850 - accuracy: 0.9239 - val_loss: 0.1492 - val_accuracy: 0.9365\n",
      "Epoch 3/20\n",
      "2360/2360 [==============================] - 1s 527us/step - loss: 0.1677 - accuracy: 0.9319 - val_loss: 0.1377 - val_accuracy: 0.9420\n",
      "Epoch 4/20\n",
      "2360/2360 [==============================] - 1s 531us/step - loss: 0.1571 - accuracy: 0.9362 - val_loss: 0.1316 - val_accuracy: 0.9416\n",
      "Epoch 5/20\n",
      "2360/2360 [==============================] - 1s 525us/step - loss: 0.1498 - accuracy: 0.9371 - val_loss: 0.1336 - val_accuracy: 0.9408\n",
      "Epoch 6/20\n",
      "2360/2360 [==============================] - 1s 536us/step - loss: 0.1482 - accuracy: 0.9386 - val_loss: 0.1272 - val_accuracy: 0.9429\n",
      "Epoch 7/20\n",
      "2360/2360 [==============================] - 1s 564us/step - loss: 0.1486 - accuracy: 0.9393 - val_loss: 0.1260 - val_accuracy: 0.9442\n",
      "Epoch 8/20\n",
      "2360/2360 [==============================] - 1s 569us/step - loss: 0.1433 - accuracy: 0.9398 - val_loss: 0.1242 - val_accuracy: 0.9444\n",
      "Epoch 9/20\n",
      "2360/2360 [==============================] - 1s 554us/step - loss: 0.1407 - accuracy: 0.9418 - val_loss: 0.1224 - val_accuracy: 0.9444\n",
      "Epoch 10/20\n",
      "2360/2360 [==============================] - 1s 549us/step - loss: 0.1373 - accuracy: 0.9424 - val_loss: 0.1202 - val_accuracy: 0.9471\n",
      "Epoch 11/20\n",
      "2360/2360 [==============================] - 1s 569us/step - loss: 0.1381 - accuracy: 0.9418 - val_loss: 0.1198 - val_accuracy: 0.9468\n",
      "Epoch 12/20\n",
      "2360/2360 [==============================] - 1s 547us/step - loss: 0.1373 - accuracy: 0.9425 - val_loss: 0.1202 - val_accuracy: 0.9452\n",
      "Epoch 13/20\n",
      "2360/2360 [==============================] - 1s 526us/step - loss: 0.1351 - accuracy: 0.9432 - val_loss: 0.1175 - val_accuracy: 0.9489\n",
      "Epoch 14/20\n",
      "2360/2360 [==============================] - 1s 606us/step - loss: 0.1333 - accuracy: 0.9441 - val_loss: 0.1185 - val_accuracy: 0.9463\n",
      "Epoch 15/20\n",
      "2360/2360 [==============================] - 1s 591us/step - loss: 0.1327 - accuracy: 0.9439 - val_loss: 0.1176 - val_accuracy: 0.9465\n",
      "Epoch 16/20\n",
      "2360/2360 [==============================] - 1s 547us/step - loss: 0.1343 - accuracy: 0.9430 - val_loss: 0.1170 - val_accuracy: 0.9476\n",
      "Epoch 17/20\n",
      "2360/2360 [==============================] - 1s 529us/step - loss: 0.1307 - accuracy: 0.9442 - val_loss: 0.1195 - val_accuracy: 0.9469\n",
      "Epoch 18/20\n",
      "2360/2360 [==============================] - 1s 534us/step - loss: 0.1300 - accuracy: 0.9456 - val_loss: 0.1165 - val_accuracy: 0.9484\n",
      "Epoch 19/20\n",
      "2360/2360 [==============================] - 1s 532us/step - loss: 0.1312 - accuracy: 0.9456 - val_loss: 0.1178 - val_accuracy: 0.9471\n",
      "Epoch 20/20\n",
      "2360/2360 [==============================] - 1s 534us/step - loss: 0.1304 - accuracy: 0.9450 - val_loss: 0.1190 - val_accuracy: 0.9480\n",
      "590/590 [==============================] - 0s 249us/step - loss: 0.1190 - accuracy: 0.9480\n",
      "Accuracy: 94.80%\n"
     ]
    }
   ],
   "source": [
    "import numpy as np\n",
    "import pandas as pd\n",
    "from sklearn.metrics import accuracy_score\n",
    "from sklearn.model_selection import train_test_split\n",
    "from sklearn.preprocessing import StandardScaler\n",
    "import tensorflow as tf\n",
    "from tensorflow.keras.models import Sequential\n",
    "from tensorflow.keras.layers import Dense, Dropout\n",
    "\n",
    "# Load the dataset\n",
    "# Assuming you have df_train as your dataset\n",
    "\n",
    "# Separate features and target variable\n",
    "X = df_train.drop('Overall_Experience', axis=1)\n",
    "y = df_train['Overall_Experience']\n",
    "\n",
    "# Encode categorical columns\n",
    "categorical_cols = ['Gender', 'Customer_Type', 'Type_Travel', 'Travel_Class', 'Seat_Comfort', 'Seat_Class',\n",
    "                    'Arrival_Time_Convenient', 'Catering', 'Platform_Location', 'Onboard_Wifi_Service',\n",
    "                    'Onboard_Entertainment', 'Online_Support', 'Ease_of_Online_Booking', 'Onboard_Service',\n",
    "                    'Legroom', 'Baggage_Handling', 'CheckIn_Service', 'Cleanliness', 'Online_Boarding']\n",
    "\n",
    "label_encoders = {}\n",
    "for col in categorical_cols:\n",
    "    label_encoders[col] = LabelEncoder()\n",
    "    X[col] = label_encoders[col].fit_transform(X[col])\n",
    "\n",
    "# One-hot encode categorical columns\n",
    "onehot_encoder = OneHotEncoder(sparse=False)\n",
    "encoded_X = onehot_encoder.fit_transform(X[categorical_cols])\n",
    "\n",
    "# Concatenate the encoded features with numerical features\n",
    "numerical_cols = X.drop(categorical_cols, axis=1).columns\n",
    "X_encoded = np.concatenate((encoded_X, X[numerical_cols].values), axis=1)\n",
    "\n",
    "# Split the data into training and testing sets\n",
    "X_train, X_test, y_train, y_test = train_test_split(X_encoded, y, test_size=0.2, random_state=23)\n",
    "\n",
    "# Normalize the features\n",
    "scaler = StandardScaler()\n",
    "X_train = scaler.fit_transform(X_train)\n",
    "X_test = scaler.transform(X_test)\n",
    "\n",
    "# Define the neural network architecture\n",
    "model = Sequential()\n",
    "model.add(Dense(64, activation='relu', input_dim=X_train.shape[1]))\n",
    "model.add(Dropout(0.5))\n",
    "model.add(Dense(64, activation='relu'))\n",
    "model.add(Dropout(0.5))\n",
    "model.add(Dense(1, activation='sigmoid'))\n",
    "\n",
    "# Compile the model\n",
    "model.compile(optimizer='adam', loss='binary_crossentropy', metrics=['accuracy'])\n",
    "\n",
    "# Train the model\n",
    "model.fit(X_train, y_train, epochs=20, batch_size=32, validation_data=(X_test, y_test))\n",
    "\n",
    "# Evaluate the model\n",
    "loss, accuracy = model.evaluate(X_test, y_test)\n",
    "print(\"Accuracy: {:.2f}%\".format(accuracy * 100))\n"
   ]
  },
  {
   "cell_type": "markdown",
   "id": "fc50cb31",
   "metadata": {},
   "source": [
    "## CNN Model - Adam Optimizer with relu activation ##"
   ]
  },
  {
   "cell_type": "code",
   "execution_count": 101,
   "id": "d591c3b8",
   "metadata": {},
   "outputs": [
    {
     "name": "stdout",
     "output_type": "stream",
     "text": [
      "Epoch 1/20\n",
      "2360/2360 [==============================] - 6s 2ms/step - loss: 0.1951 - accuracy: 0.9185 - val_loss: 0.1521 - val_accuracy: 0.9364\n",
      "Epoch 2/20\n",
      "2360/2360 [==============================] - 5s 2ms/step - loss: 0.1342 - accuracy: 0.9432 - val_loss: 0.1262 - val_accuracy: 0.9449\n",
      "Epoch 3/20\n",
      "2360/2360 [==============================] - 5s 2ms/step - loss: 0.1190 - accuracy: 0.9487 - val_loss: 0.1232 - val_accuracy: 0.9464\n",
      "Epoch 4/20\n",
      "2360/2360 [==============================] - 5s 2ms/step - loss: 0.1103 - accuracy: 0.9524 - val_loss: 0.1192 - val_accuracy: 0.9481\n",
      "Epoch 5/20\n",
      "2360/2360 [==============================] - 5s 2ms/step - loss: 0.1050 - accuracy: 0.9544 - val_loss: 0.1139 - val_accuracy: 0.9490\n",
      "Epoch 6/20\n",
      "2360/2360 [==============================] - 5s 2ms/step - loss: 0.0991 - accuracy: 0.9566 - val_loss: 0.1142 - val_accuracy: 0.9510\n",
      "Epoch 7/20\n",
      "2360/2360 [==============================] - 5s 2ms/step - loss: 0.0947 - accuracy: 0.9588 - val_loss: 0.1178 - val_accuracy: 0.9491\n",
      "Epoch 8/20\n",
      "2360/2360 [==============================] - 5s 2ms/step - loss: 0.0908 - accuracy: 0.9603 - val_loss: 0.1228 - val_accuracy: 0.9476\n",
      "Epoch 9/20\n",
      "2360/2360 [==============================] - 5s 2ms/step - loss: 0.0875 - accuracy: 0.9623 - val_loss: 0.1207 - val_accuracy: 0.9504\n",
      "Epoch 10/20\n",
      "2360/2360 [==============================] - 5s 2ms/step - loss: 0.0835 - accuracy: 0.9633 - val_loss: 0.1244 - val_accuracy: 0.9481\n",
      "Epoch 11/20\n",
      "2360/2360 [==============================] - 5s 2ms/step - loss: 0.0797 - accuracy: 0.9651 - val_loss: 0.1212 - val_accuracy: 0.9492\n",
      "Epoch 12/20\n",
      "2360/2360 [==============================] - 5s 2ms/step - loss: 0.0766 - accuracy: 0.9663 - val_loss: 0.1305 - val_accuracy: 0.9476\n",
      "Epoch 13/20\n",
      "2360/2360 [==============================] - 5s 2ms/step - loss: 0.0738 - accuracy: 0.9681 - val_loss: 0.1304 - val_accuracy: 0.9498\n",
      "Epoch 14/20\n",
      "2360/2360 [==============================] - 5s 2ms/step - loss: 0.0701 - accuracy: 0.9690 - val_loss: 0.1335 - val_accuracy: 0.9485\n",
      "Epoch 15/20\n",
      "2360/2360 [==============================] - 5s 2ms/step - loss: 0.0676 - accuracy: 0.9699 - val_loss: 0.1455 - val_accuracy: 0.9480\n",
      "Epoch 16/20\n",
      "2360/2360 [==============================] - 5s 2ms/step - loss: 0.0649 - accuracy: 0.9711 - val_loss: 0.1425 - val_accuracy: 0.9479\n",
      "Epoch 17/20\n",
      "2360/2360 [==============================] - 5s 2ms/step - loss: 0.0616 - accuracy: 0.9724 - val_loss: 0.1459 - val_accuracy: 0.9468\n",
      "Epoch 18/20\n",
      "2360/2360 [==============================] - 5s 2ms/step - loss: 0.0599 - accuracy: 0.9737 - val_loss: 0.1471 - val_accuracy: 0.9481\n",
      "Epoch 19/20\n",
      "2360/2360 [==============================] - 5s 2ms/step - loss: 0.0563 - accuracy: 0.9750 - val_loss: 0.1608 - val_accuracy: 0.9438\n",
      "Epoch 20/20\n",
      "2360/2360 [==============================] - 5s 2ms/step - loss: 0.0549 - accuracy: 0.9760 - val_loss: 0.1622 - val_accuracy: 0.9471\n",
      "590/590 [==============================] - 0s 654us/step - loss: 0.1622 - accuracy: 0.9471\n",
      "Accuracy: 94.71%\n"
     ]
    }
   ],
   "source": [
    "import numpy as np\n",
    "import pandas as pd\n",
    "from sklearn.model_selection import train_test_split\n",
    "from sklearn.preprocessing import StandardScaler\n",
    "import tensorflow as tf\n",
    "from tensorflow.keras.models import Sequential\n",
    "from tensorflow.keras.layers import Conv1D, MaxPooling1D, Flatten, Dense\n",
    "\n",
    "# Load the dataset\n",
    "# Assuming you have df_train as your dataset\n",
    "\n",
    "# Separate features and target variable\n",
    "X = df_train.drop('Overall_Experience', axis=1)\n",
    "y = df_train['Overall_Experience']\n",
    "\n",
    "# ... Rest of the code for preprocessing ...\n",
    "# Encode categorical columns\n",
    "categorical_cols = ['Gender', 'Customer_Type', 'Type_Travel', 'Travel_Class', 'Seat_Comfort', 'Seat_Class',\n",
    "                    'Arrival_Time_Convenient', 'Catering', 'Platform_Location', 'Onboard_Wifi_Service',\n",
    "                    'Onboard_Entertainment', 'Online_Support', 'Ease_of_Online_Booking', 'Onboard_Service',\n",
    "                    'Legroom', 'Baggage_Handling', 'CheckIn_Service', 'Cleanliness', 'Online_Boarding']\n",
    "\n",
    "label_encoders = {}\n",
    "for col in categorical_cols:\n",
    "    label_encoders[col] = LabelEncoder()\n",
    "    X[col] = label_encoders[col].fit_transform(X[col])\n",
    "\n",
    "# One-hot encode categorical columns\n",
    "onehot_encoder = OneHotEncoder(sparse=False)\n",
    "encoded_X = onehot_encoder.fit_transform(X[categorical_cols])\n",
    "\n",
    "# Concatenate the encoded features with numerical features\n",
    "numerical_cols = X.drop(categorical_cols, axis=1).columns\n",
    "X_encoded = np.concatenate((encoded_X, X[numerical_cols].values), axis=1)\n",
    "\n",
    "# Split the data into training and testing sets\n",
    "X_train, X_test, y_train, y_test = train_test_split(X_encoded, y, test_size=0.2, random_state=23)\n",
    "\n",
    "# Normalize the features\n",
    "scaler = StandardScaler()\n",
    "X_train = scaler.fit_transform(X_train)\n",
    "X_test = scaler.transform(X_test)\n",
    "\n",
    "# Reshape the input data to have a 2D structure (number of samples, number of features, 1)\n",
    "X = X.values.reshape(X.shape[0], X.shape[1], 1)\n",
    "\n",
    "# Create the CNN model\n",
    "model = Sequential()\n",
    "model.add(Conv1D(32, kernel_size=3, activation='relu', input_shape=(X_train.shape[1], 1)))\n",
    "model.add(MaxPooling1D(pool_size=2))\n",
    "model.add(Conv1D(64, kernel_size=3, activation='relu'))\n",
    "model.add(MaxPooling1D(pool_size=2))\n",
    "model.add(Flatten())\n",
    "model.add(Dense(64, activation='relu'))\n",
    "model.add(Dense(1, activation='sigmoid'))\n",
    "\n",
    "# Compile the model\n",
    "model.compile(optimizer='adam', loss='binary_crossentropy', metrics=['accuracy'])\n",
    "\n",
    "# Train the model\n",
    "model.fit(X_train, y_train, epochs=20, batch_size=32, validation_data=(X_test, y_test))\n",
    "\n",
    "# Evaluate the model\n",
    "loss, accuracy = model.evaluate(X_test, y_test)\n",
    "print(\"Accuracy: {:.2f}%\".format(accuracy * 100))\n"
   ]
  },
  {
   "cell_type": "markdown",
   "id": "57402e9a",
   "metadata": {},
   "source": [
    "## XG Boost Model ##"
   ]
  },
  {
   "cell_type": "code",
   "execution_count": 102,
   "id": "6130aa16",
   "metadata": {},
   "outputs": [
    {
     "name": "stdout",
     "output_type": "stream",
     "text": [
      "Epoch 1/10\n",
      "2360/2360 [==============================] - 1s 478us/step - loss: 0.3156 - accuracy: 0.8629 - val_loss: 0.2341 - val_accuracy: 0.9035\n",
      "Epoch 2/10\n",
      "2360/2360 [==============================] - 1s 456us/step - loss: 0.2054 - accuracy: 0.9150 - val_loss: 0.1852 - val_accuracy: 0.9218\n",
      "Epoch 3/10\n",
      "2360/2360 [==============================] - 1s 450us/step - loss: 0.1784 - accuracy: 0.9249 - val_loss: 0.1728 - val_accuracy: 0.9254\n",
      "Epoch 4/10\n",
      "2360/2360 [==============================] - 1s 449us/step - loss: 0.1665 - accuracy: 0.9292 - val_loss: 0.1741 - val_accuracy: 0.9258\n",
      "Epoch 5/10\n",
      "2360/2360 [==============================] - 1s 459us/step - loss: 0.1589 - accuracy: 0.9323 - val_loss: 0.1632 - val_accuracy: 0.9314\n",
      "Epoch 6/10\n",
      "2360/2360 [==============================] - 1s 462us/step - loss: 0.1536 - accuracy: 0.9349 - val_loss: 0.1605 - val_accuracy: 0.9323\n",
      "Epoch 7/10\n",
      "2360/2360 [==============================] - 1s 456us/step - loss: 0.1497 - accuracy: 0.9361 - val_loss: 0.1604 - val_accuracy: 0.9304\n",
      "Epoch 8/10\n",
      "2360/2360 [==============================] - 1s 456us/step - loss: 0.1463 - accuracy: 0.9369 - val_loss: 0.1559 - val_accuracy: 0.9318\n",
      "Epoch 9/10\n",
      "2360/2360 [==============================] - 1s 450us/step - loss: 0.1421 - accuracy: 0.9391 - val_loss: 0.1494 - val_accuracy: 0.9370\n",
      "Epoch 10/10\n",
      "2360/2360 [==============================] - 1s 450us/step - loss: 0.1406 - accuracy: 0.9382 - val_loss: 0.1504 - val_accuracy: 0.9344\n",
      "590/590 [==============================] - 0s 180us/step\n",
      "Accuracy: 94.08%\n"
     ]
    }
   ],
   "source": [
    "import numpy as np\n",
    "import pandas as pd\n",
    "from sklearn.model_selection import train_test_split\n",
    "from sklearn.preprocessing import StandardScaler\n",
    "import tensorflow as tf\n",
    "from tensorflow.keras.models import Sequential\n",
    "from tensorflow.keras.layers import Dense\n",
    "import xgboost as xgb\n",
    "\n",
    "# Load the dataset\n",
    "# Assuming you have df_train as your dataset\n",
    "\n",
    "# Separate features and target variable\n",
    "X = df_train.drop('Overall_Experience', axis=1)\n",
    "y = df_train['Overall_Experience']\n",
    "\n",
    "# ... Code for preprocessing ...\n",
    "# Encode categorical columns\n",
    "categorical_cols = ['Gender', 'Customer_Type', 'Type_Travel', 'Travel_Class', 'Seat_Comfort', 'Seat_Class',\n",
    "                    'Arrival_Time_Convenient', 'Catering', 'Platform_Location', 'Onboard_Wifi_Service',\n",
    "                    'Onboard_Entertainment', 'Online_Support', 'Ease_of_Online_Booking', 'Onboard_Service',\n",
    "                    'Legroom', 'Baggage_Handling', 'CheckIn_Service', 'Cleanliness', 'Online_Boarding']\n",
    "\n",
    "label_encoders = {}\n",
    "for col in categorical_cols:\n",
    "    label_encoders[col] = LabelEncoder()\n",
    "    X[col] = label_encoders[col].fit_transform(X[col])\n",
    "\n",
    "# One-hot encode categorical columns\n",
    "onehot_encoder = OneHotEncoder(sparse=False)\n",
    "encoded_X = onehot_encoder.fit_transform(X[categorical_cols])\n",
    "\n",
    "# Concatenate the encoded features with numerical features\n",
    "numerical_cols = X.drop(categorical_cols, axis=1).columns\n",
    "X_encoded = np.concatenate((encoded_X, X[numerical_cols].values), axis=1)\n",
    "\n",
    "# Split the data into training and testing sets\n",
    "X_train, X_test, y_train, y_test = train_test_split(X, y, test_size=0.2, random_state=23)\n",
    "\n",
    "# Scale the features\n",
    "scaler = StandardScaler()\n",
    "X_train = scaler.fit_transform(X_train)\n",
    "X_test = scaler.transform(X_test)\n",
    "\n",
    "# Build the MLP model\n",
    "mlp_model = Sequential()\n",
    "mlp_model.add(Dense(64, activation='relu', input_dim=X_train.shape[1]))\n",
    "mlp_model.add(Dense(64, activation='relu'))\n",
    "mlp_model.add(Dense(1, activation='sigmoid'))\n",
    "\n",
    "# Compile and train the MLP model\n",
    "mlp_model.compile(optimizer='adam', loss='binary_crossentropy', metrics=['accuracy'])\n",
    "mlp_model.fit(X_train, y_train, epochs=10, batch_size=32, validation_data=(X_test, y_test))\n",
    "\n",
    "# Use the MLP model to generate predictions on the test set\n",
    "mlp_preds = mlp_model.predict(X_test)\n",
    "\n",
    "# Build the XGBoost model\n",
    "xgb_model = xgb.XGBClassifier(n_estimators=100, max_depth=3)\n",
    "\n",
    "# Train the XGBoost model\n",
    "xgb_model.fit(X_train, y_train)\n",
    "\n",
    "# Use the XGBoost model to generate predictions on the test set\n",
    "xgb_preds = xgb_model.predict_proba(X_test)[:, 1]\n",
    "\n",
    "# Combine the predictions from both models using a weighted average\n",
    "hybrid_preds = 0.5 * mlp_preds.flatten() + 0.5 * xgb_preds\n",
    "\n",
    "# Convert the hybrid predictions to binary labels\n",
    "hybrid_labels = np.where(hybrid_preds > 0.5, 1, 0)\n",
    "\n",
    "# Evaluate the hybrid model\n",
    "accuracy = np.mean(hybrid_labels == y_test)\n",
    "print(\"Accuracy: {:.2f}%\".format(accuracy * 100))\n"
   ]
  },
  {
   "cell_type": "markdown",
   "id": "091dbe57",
   "metadata": {},
   "source": [
    "## CNN Model with Early Stopping, relu activation, and Adam optimizer ##"
   ]
  },
  {
   "cell_type": "code",
   "execution_count": 103,
   "id": "9d7a4dd1",
   "metadata": {},
   "outputs": [
    {
     "name": "stdout",
     "output_type": "stream",
     "text": [
      "Epoch 1/50\n",
      "2360/2360 [==============================] - 5s 2ms/step - loss: 0.3373 - accuracy: 0.8546 - val_loss: 0.2109 - val_accuracy: 0.9105\n",
      "Epoch 2/50\n",
      "2360/2360 [==============================] - 4s 2ms/step - loss: 0.2437 - accuracy: 0.8975 - val_loss: 0.1856 - val_accuracy: 0.9201\n",
      "Epoch 3/50\n",
      "2360/2360 [==============================] - 4s 2ms/step - loss: 0.2238 - accuracy: 0.9053 - val_loss: 0.1726 - val_accuracy: 0.9238\n",
      "Epoch 4/50\n",
      "2360/2360 [==============================] - 4s 2ms/step - loss: 0.2113 - accuracy: 0.9094 - val_loss: 0.1658 - val_accuracy: 0.9280\n",
      "Epoch 5/50\n",
      "2360/2360 [==============================] - 4s 2ms/step - loss: 0.2029 - accuracy: 0.9132 - val_loss: 0.1617 - val_accuracy: 0.9300\n",
      "Epoch 6/50\n",
      "2360/2360 [==============================] - 4s 2ms/step - loss: 0.1957 - accuracy: 0.9177 - val_loss: 0.1567 - val_accuracy: 0.9330\n",
      "Epoch 7/50\n",
      "2360/2360 [==============================] - 4s 2ms/step - loss: 0.1929 - accuracy: 0.9184 - val_loss: 0.1563 - val_accuracy: 0.9336\n",
      "Epoch 8/50\n",
      "2360/2360 [==============================] - 4s 2ms/step - loss: 0.1909 - accuracy: 0.9192 - val_loss: 0.1538 - val_accuracy: 0.9327\n",
      "Epoch 9/50\n",
      "2360/2360 [==============================] - 4s 2ms/step - loss: 0.1877 - accuracy: 0.9199 - val_loss: 0.1532 - val_accuracy: 0.9330\n",
      "Epoch 10/50\n",
      "2360/2360 [==============================] - 4s 2ms/step - loss: 0.1855 - accuracy: 0.9210 - val_loss: 0.1503 - val_accuracy: 0.9341\n",
      "Epoch 11/50\n",
      "2360/2360 [==============================] - 4s 2ms/step - loss: 0.1824 - accuracy: 0.9229 - val_loss: 0.1491 - val_accuracy: 0.9360\n",
      "Epoch 12/50\n",
      "2360/2360 [==============================] - 4s 2ms/step - loss: 0.1803 - accuracy: 0.9235 - val_loss: 0.1470 - val_accuracy: 0.9360\n",
      "Epoch 13/50\n",
      "2360/2360 [==============================] - 4s 2ms/step - loss: 0.1796 - accuracy: 0.9245 - val_loss: 0.1478 - val_accuracy: 0.9368\n",
      "Epoch 14/50\n",
      "2360/2360 [==============================] - 4s 2ms/step - loss: 0.1791 - accuracy: 0.9236 - val_loss: 0.1444 - val_accuracy: 0.9379\n",
      "Epoch 15/50\n",
      "2360/2360 [==============================] - 4s 2ms/step - loss: 0.1772 - accuracy: 0.9249 - val_loss: 0.1452 - val_accuracy: 0.9375\n",
      "Epoch 16/50\n",
      "2360/2360 [==============================] - 4s 2ms/step - loss: 0.1761 - accuracy: 0.9258 - val_loss: 0.1421 - val_accuracy: 0.9382\n",
      "Epoch 17/50\n",
      "2360/2360 [==============================] - 4s 2ms/step - loss: 0.1747 - accuracy: 0.9260 - val_loss: 0.1434 - val_accuracy: 0.9365\n",
      "Epoch 18/50\n",
      "2360/2360 [==============================] - 4s 2ms/step - loss: 0.1750 - accuracy: 0.9255 - val_loss: 0.1427 - val_accuracy: 0.9373\n",
      "Epoch 19/50\n",
      "2360/2360 [==============================] - 4s 2ms/step - loss: 0.1726 - accuracy: 0.9265 - val_loss: 0.1428 - val_accuracy: 0.9383\n",
      "Epoch 20/50\n",
      "2360/2360 [==============================] - 4s 2ms/step - loss: 0.1719 - accuracy: 0.9263 - val_loss: 0.1397 - val_accuracy: 0.9383\n",
      "Epoch 21/50\n",
      "2360/2360 [==============================] - 4s 2ms/step - loss: 0.1703 - accuracy: 0.9270 - val_loss: 0.1389 - val_accuracy: 0.9405\n",
      "Epoch 22/50\n",
      "2360/2360 [==============================] - 4s 2ms/step - loss: 0.1705 - accuracy: 0.9286 - val_loss: 0.1428 - val_accuracy: 0.9381\n",
      "Epoch 23/50\n",
      "2360/2360 [==============================] - 4s 2ms/step - loss: 0.1697 - accuracy: 0.9283 - val_loss: 0.1406 - val_accuracy: 0.9390\n",
      "Epoch 24/50\n",
      "2360/2360 [==============================] - 4s 2ms/step - loss: 0.1685 - accuracy: 0.9282 - val_loss: 0.1375 - val_accuracy: 0.9401\n",
      "Epoch 25/50\n",
      "2360/2360 [==============================] - 4s 2ms/step - loss: 0.1680 - accuracy: 0.9287 - val_loss: 0.1384 - val_accuracy: 0.9381\n",
      "Epoch 26/50\n",
      "2360/2360 [==============================] - 5s 2ms/step - loss: 0.1651 - accuracy: 0.9293 - val_loss: 0.1373 - val_accuracy: 0.9396\n",
      "Epoch 27/50\n",
      "2360/2360 [==============================] - 5s 2ms/step - loss: 0.1673 - accuracy: 0.9284 - val_loss: 0.1363 - val_accuracy: 0.9385\n",
      "Epoch 28/50\n",
      "2360/2360 [==============================] - 5s 2ms/step - loss: 0.1646 - accuracy: 0.9292 - val_loss: 0.1380 - val_accuracy: 0.9391\n",
      "Epoch 29/50\n",
      "2360/2360 [==============================] - 5s 2ms/step - loss: 0.1677 - accuracy: 0.9279 - val_loss: 0.1367 - val_accuracy: 0.9407\n",
      "Epoch 30/50\n",
      "2360/2360 [==============================] - 4s 2ms/step - loss: 0.1652 - accuracy: 0.9286 - val_loss: 0.1393 - val_accuracy: 0.9399\n",
      "Epoch 31/50\n",
      "2360/2360 [==============================] - 4s 2ms/step - loss: 0.1652 - accuracy: 0.9294 - val_loss: 0.1370 - val_accuracy: 0.9395\n",
      "Epoch 32/50\n",
      "2360/2360 [==============================] - 4s 2ms/step - loss: 0.1653 - accuracy: 0.9293 - val_loss: 0.1354 - val_accuracy: 0.9398\n",
      "Epoch 33/50\n",
      "2360/2360 [==============================] - 4s 2ms/step - loss: 0.1651 - accuracy: 0.9298 - val_loss: 0.1351 - val_accuracy: 0.9403\n",
      "Epoch 34/50\n",
      "2360/2360 [==============================] - 4s 2ms/step - loss: 0.1654 - accuracy: 0.9297 - val_loss: 0.1340 - val_accuracy: 0.9400\n",
      "Epoch 35/50\n",
      "2360/2360 [==============================] - 4s 2ms/step - loss: 0.1639 - accuracy: 0.9297 - val_loss: 0.1356 - val_accuracy: 0.9394\n",
      "Epoch 36/50\n",
      "2360/2360 [==============================] - 5s 2ms/step - loss: 0.1628 - accuracy: 0.9308 - val_loss: 0.1366 - val_accuracy: 0.9402\n",
      "Epoch 37/50\n",
      "2360/2360 [==============================] - 5s 2ms/step - loss: 0.1650 - accuracy: 0.9296 - val_loss: 0.1368 - val_accuracy: 0.9383\n",
      "Epoch 38/50\n",
      "2360/2360 [==============================] - 5s 2ms/step - loss: 0.1642 - accuracy: 0.9294 - val_loss: 0.1344 - val_accuracy: 0.9390\n",
      "Epoch 39/50\n",
      "2360/2360 [==============================] - 5s 2ms/step - loss: 0.1621 - accuracy: 0.9316 - val_loss: 0.1351 - val_accuracy: 0.9387\n",
      "590/590 [==============================] - 0s 435us/step - loss: 0.1340 - accuracy: 0.9400\n",
      "Test Loss: 0.13400457799434662\n",
      "Test Accuracy: 0.9400296807289124\n"
     ]
    }
   ],
   "source": [
    "import tensorflow as tf\n",
    "from tensorflow.keras.models import Sequential\n",
    "from tensorflow.keras.layers import Conv1D, MaxPooling1D, Flatten, BatchNormalization, Dropout\n",
    "from keras.callbacks import EarlyStopping\n",
    "\n",
    "# Separate features and target variable\n",
    "X = df_test  # Features\n",
    "y = df_train['Overall_Experience']  # Target variable from the training dataset\n",
    "\n",
    "# ... Code for preprocessing ...\n",
    "# Encode categorical columns\n",
    "categorical_cols = ['Customer_Type','Type_Travel','Travel_Class','Seat_Comfort', 'Seat_Class', \n",
    "                    'Onboard_Wifi_Service','Onboard_Entertainment','Onboard_Service','Legroom',\n",
    "                    'Baggage_Handling', 'CheckIn_Service', 'Cleanliness','Online_Boarding']\n",
    "\n",
    "label_encoders = {}\n",
    "for col in categorical_cols:\n",
    "    label_encoders[col] = LabelEncoder()\n",
    "    X[col] = label_encoders[col].fit_transform(X[col])\n",
    "\n",
    "# One-hot encode categorical columns\n",
    "onehot_encoder = OneHotEncoder(sparse=False)\n",
    "encoded_X = onehot_encoder.fit_transform(X[categorical_cols])\n",
    "\n",
    "# Concatenate the encoded features with numerical features\n",
    "numerical_cols = X.drop(categorical_cols, axis=1).columns\n",
    "X_encoded = np.concatenate((encoded_X, X[numerical_cols].values), axis=1)\n",
    "\n",
    "# Scale the features\n",
    "scaler = StandardScaler()\n",
    "X_train = scaler.fit_transform(X_train)\n",
    "X_test = scaler.transform(X_test)\n",
    "\n",
    "# Create the CNN model\n",
    "model = Sequential()\n",
    "model.add(Conv1D(32, kernel_size=3, activation='relu', input_shape=(X_train.shape[1], 1)))\n",
    "model.add(BatchNormalization())\n",
    "model.add(MaxPooling1D(pool_size=2))\n",
    "model.add(Dropout(0.2))\n",
    "\n",
    "model.add(Conv1D(64, kernel_size=3, activation='relu'))\n",
    "model.add(BatchNormalization())\n",
    "model.add(MaxPooling1D(pool_size=2))\n",
    "model.add(Dropout(0.2))\n",
    "\n",
    "model.add(Flatten())\n",
    "model.add(Dense(64, activation='relu'))\n",
    "model.add(Dropout(0.5))\n",
    "model.add(Dense(1, activation='sigmoid'))\n",
    "\n",
    "# Compile the model\n",
    "model.compile(optimizer='adam', loss='binary_crossentropy', metrics=['accuracy'])\n",
    "\n",
    "# Define early stopping\n",
    "early_stopping = EarlyStopping(patience=5, restore_best_weights=True)\n",
    "\n",
    "# Train the model\n",
    "history = model.fit(X_train, y_train, epochs=50, batch_size=32, validation_data=(X_test, y_test), callbacks=[early_stopping])\n",
    "\n",
    "# Evaluate the model\n",
    "test_loss, test_acc = model.evaluate(X_test, y_test)\n",
    "print(\"Test Loss:\", test_loss)\n",
    "print(\"Test Accuracy:\", test_acc)\n"
   ]
  },
  {
   "cell_type": "markdown",
   "id": "c5d1ad1e",
   "metadata": {},
   "source": [
    "## Observations: ##\n",
    "We have used several models including Logistic Regression, Gradient Boost, XGBoost, Support Vector Machines, Random Forest, and CNNs with best results from the CNN models at roughly ~94%.  Improvements most likely can be realized with hyperparameter tuning in the CNN models or an ensemble approach."
   ]
  }
 ],
 "metadata": {
  "kernelspec": {
   "display_name": "Python 3 (ipykernel)",
   "language": "python",
   "name": "python3"
  },
  "language_info": {
   "codemirror_mode": {
    "name": "ipython",
    "version": 3
   },
   "file_extension": ".py",
   "mimetype": "text/x-python",
   "name": "python",
   "nbconvert_exporter": "python",
   "pygments_lexer": "ipython3",
   "version": "3.11.4"
  }
 },
 "nbformat": 4,
 "nbformat_minor": 5
}
